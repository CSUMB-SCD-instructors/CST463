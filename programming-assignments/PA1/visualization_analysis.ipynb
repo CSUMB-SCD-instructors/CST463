{
 "cells": [
  {
   "cell_type": "markdown",
   "metadata": {},
   "source": [
    "# PA1: College Data Visualization & PCA Analysis\n",
    "\n",
    "**Learning Goals:**\n",
    "- Practice data visualization and interpretation skills\n",
    "- Compare naive feature selection vs. principled dimensionality reduction\n",
    "- Develop communication skills for peer review\n",
    "- Apply your custom PCA implementation to real data\n",
    "\n",
    "**Submission Requirements:**\n",
    "- Complete all code cells and written responses\n",
    "- Export notebook as PDF for peer review\n",
    "- Focus on clear explanations and visual communication\n",
    "\n",
    "---"
   ]
  },
  {
   "cell_type": "markdown",
   "metadata": {},
   "source": [
    "## Setup & Data Loading"
   ]
  },
  {
   "cell_type": "code",
   "execution_count": null,
   "metadata": {},
   "outputs": [],
   "source": [
    "import pandas as pd\n",
    "import numpy as np\n",
    "import matplotlib.pyplot as plt\n",
    "from student_code import pca_fit_transform\n",
    "\n",
    "# Set plotting style\n",
    "plt.style.use('default')\n",
    "plt.rcParams['figure.figsize'] = (10, 6)\n",
    "plt.rcParams['font.size'] = 12\n",
    "\n",
    "# Load the college dataset\n",
    "df = pd.read_csv('College.csv', index_col=0)\n",
    "print(f\"Dataset shape: {df.shape}\")\n",
    "print(f\"\\nColumns: {list(df.columns)}\")\n",
    "df.head()"
   ]
  },
  {
   "cell_type": "code",
   "execution_count": null,
   "metadata": {},
   "outputs": [],
   "source": [
    "# Basic dataset exploration\n",
    "print(\"Dataset Info:\")\n",
    "print(df.info())\n",
    "print(\"\\nBasic Statistics:\")\n",
    "df.describe()"
   ]
  },
  {
   "cell_type": "markdown",
   "metadata": {},
   "source": [
    "## Part 1: Naive Feature Exploration\n",
    "\n",
    "**Your Task:** Without using any dimensionality reduction techniques, explore the college dataset by selecting 2-3 features that you think might be most interesting or revealing about colleges. Create visualizations and provide your reasoning.\n",
    "\n",
    "**Questions to consider:**\n",
    "- Which features do you think would be most informative?\n",
    "- What relationships do you expect to see?\n",
    "- How might you distinguish between different types of colleges?"
   ]
  },
  {
   "cell_type": "markdown",
   "metadata": {},
   "source": [
    "### 1.1 Feature Selection & Reasoning\n",
    "\n",
    "**Write your response here:**\n",
    "\n",
    "*Explain which 2-3 features you chose and why you think they would be most informative for understanding colleges. Consider what aspects of college experience or quality these features might capture.*\n",
    "\n",
    "**My chosen features:**\n",
    "1. Feature 1: [NAME] - [REASONING]\n",
    "2. Feature 2: [NAME] - [REASONING] \n",
    "3. Feature 3 (optional): [NAME] - [REASONING]\n"
   ]
  },
  {
   "cell_type": "code",
   "execution_count": null,
   "metadata": {},
   "outputs": [],
   "source": "# TODO: Define your chosen features here\nfeature1 = \"\"  # Replace with your chosen feature name\nfeature2 = \"\"  # Replace with your chosen feature name  \nfeature3 = \"\"  # Optional third feature\n\nprint(f\"Selected features: {feature1}, {feature2}\")\nif feature3:\n    print(f\"Third feature: {feature3}\")"
  },
  {
   "cell_type": "markdown",
   "metadata": {},
   "source": [
    "### 1.2 Naive Visualization"
   ]
  },
  {
   "cell_type": "code",
   "execution_count": null,
   "metadata": {},
   "outputs": [],
   "source": [
    "# TODO: Create scatter plot of your chosen features\n",
    "# Color by Private/Public if you want to see that distinction\n",
    "\n",
    "plt.figure(figsize=(12, 8))\n",
    "\n",
    "# Basic scatter plot\n",
    "# TODO: Uncomment and modify this code block\n",
    "# plt.scatter(df[feature1], df[feature2], alpha=0.6)\n",
    "# plt.xlabel(feature1)\n",
    "# plt.ylabel(feature2)\n",
    "# plt.title(f'College Data: {feature1} vs {feature2}')\n",
    "\n",
    "# Optional: Color by private/public\n",
    "# private_colleges = df[df['Private'] == 'Yes']\n",
    "# public_colleges = df[df['Private'] == 'No']\n",
    "# plt.scatter(private_colleges[feature1], private_colleges[feature2], \n",
    "#            alpha=0.6, label='Private', s=50)\n",
    "# plt.scatter(public_colleges[feature1], public_colleges[feature2], \n",
    "#            alpha=0.6, label='Public', s=50)\n",
    "# plt.legend()\n",
    "\n",
    "plt.grid(True, alpha=0.3)\n",
    "plt.tight_layout()\n",
    "plt.show()"
   ]
  },
  {
   "cell_type": "code",
   "execution_count": null,
   "metadata": {},
   "outputs": [],
   "source": [
    "# TODO: If you chose a third feature, create a 3D plot or additional 2D plots\n",
    "# This cell is optional\n",
    "\n",
    "if feature3:\n",
    "    # Option 1: 3D scatter plot\n",
    "    fig = plt.figure(figsize=(12, 9))\n",
    "    ax = fig.add_subplot(111, projection='3d')\n",
    "    \n",
    "    # TODO: Uncomment and modify\n",
    "    # ax.scatter(df[feature1], df[feature2], df[feature3], alpha=0.6)\n",
    "    # ax.set_xlabel(feature1)\n",
    "    # ax.set_ylabel(feature2)\n",
    "    # ax.set_zlabel(feature3)\n",
    "    # ax.set_title(f'3D View: {feature1}, {feature2}, {feature3}')\n",
    "    \n",
    "    plt.show()\n",
    "    \n",
    "    # Option 2: Multiple 2D plots\n",
    "    fig, axes = plt.subplots(1, 2, figsize=(15, 6))\n",
    "    \n",
    "    # TODO: Create additional 2D combinations\n",
    "    # axes[0].scatter(df[feature1], df[feature3], alpha=0.6)\n",
    "    # axes[0].set_xlabel(feature1)\n",
    "    # axes[0].set_ylabel(feature3)\n",
    "    # axes[0].set_title(f'{feature1} vs {feature3}')\n",
    "    \n",
    "    # axes[1].scatter(df[feature2], df[feature3], alpha=0.6)\n",
    "    # axes[1].set_xlabel(feature2)\n",
    "    # axes[1].set_ylabel(feature3)\n",
    "    # axes[1].set_title(f'{feature2} vs {feature3}')\n",
    "    \n",
    "    plt.tight_layout()\n",
    "    plt.show()"
   ]
  },
  {
   "cell_type": "markdown",
   "metadata": {},
   "source": [
    "### 1.3 Naive Analysis & Observations\n",
    "\n",
    "**Write your analysis here:**\n",
    "\n",
    "*Based on your visualizations above, describe what patterns, clusters, or relationships you observe. What insights about colleges can you draw from these features?*\n",
    "\n",
    "**My observations:**\n",
    "- Pattern 1: [DESCRIBE]\n",
    "- Pattern 2: [DESCRIBE]  \n",
    "- Surprising finding: [DESCRIBE]\n",
    "- Limitations of this approach: [DESCRIBE]\n"
   ]
  },
  {
   "cell_type": "markdown",
   "metadata": {},
   "source": [
    "---\n",
    "\n",
    "## Part 2: PCA-Based Analysis\n",
    "\n",
    "Now let's apply your custom PCA implementation to see what the data's principal components reveal. We'll use all numeric features to get a comprehensive view."
   ]
  },
  {
   "cell_type": "markdown",
   "metadata": {},
   "source": [
    "### 2.1 Data Preparation for PCA"
   ]
  },
  {
   "cell_type": "code",
   "execution_count": null,
   "metadata": {},
   "outputs": [],
   "source": [
    "# Prepare numeric data for PCA (exclude categorical 'Private' column)\n",
    "numeric_features = df.select_dtypes(include=[np.number]).columns.tolist()\n",
    "print(f\"Numeric features for PCA: {numeric_features}\")\n",
    "print(f\"Number of features: {len(numeric_features)}\")\n",
    "\n",
    "# Extract numeric data as numpy array\n",
    "X = df[numeric_features].values\n",
    "print(f\"\\nData matrix shape: {X.shape}\")\n",
    "print(f\"Data range check:\")\n",
    "print(f\"Min values: {X.min(axis=0)[:5]}... (showing first 5)\")\n",
    "print(f\"Max values: {X.max(axis=0)[:5]}... (showing first 5)\")"
   ]
  },
  {
   "cell_type": "markdown",
   "metadata": {},
   "source": [
    "### 2.2 Apply Your Custom PCA Implementation"
   ]
  },
  {
   "cell_type": "code",
   "execution_count": null,
   "metadata": {},
   "outputs": [],
   "source": [
    "# Apply PCA using your custom implementation\n",
    "# Start with first 4 components for visualization\n",
    "n_components = 4\n",
    "\n",
    "X_pca, components, explained_variance_ratio, feature_means = pca_fit_transform(\n",
    "    X, n_components=n_components\n",
    ")\n",
    "\n",
    "print(f\"PCA Results:\")\n",
    "print(f\"Transformed data shape: {X_pca.shape}\")\n",
    "print(f\"Components shape: {components.shape}\")\n",
    "print(f\"\\nExplained variance ratios:\")\n",
    "for i, ratio in enumerate(explained_variance_ratio):\n",
    "    print(f\"PC{i+1}: {ratio:.3f} ({ratio*100:.1f}%)\")\n",
    "\n",
    "print(f\"\\nTotal variance explained by first {n_components} components: {explained_variance_ratio.sum():.3f} ({explained_variance_ratio.sum()*100:.1f}%)\")"
   ]
  },
  {
   "cell_type": "markdown",
   "metadata": {},
   "source": [
    "### 2.3 Visualize Principal Components"
   ]
  },
  {
   "cell_type": "code",
   "execution_count": null,
   "metadata": {},
   "outputs": [],
   "source": [
    "# Plot explained variance\n",
    "plt.figure(figsize=(12, 5))\n",
    "\n",
    "plt.subplot(1, 2, 1)\n",
    "plt.bar(range(1, len(explained_variance_ratio) + 1), explained_variance_ratio)\n",
    "plt.xlabel('Principal Component')\n",
    "plt.ylabel('Explained Variance Ratio')\n",
    "plt.title('Explained Variance by Component')\n",
    "plt.grid(True, alpha=0.3)\n",
    "\n",
    "plt.subplot(1, 2, 2)\n",
    "cumulative_variance = np.cumsum(explained_variance_ratio)\n",
    "plt.plot(range(1, len(cumulative_variance) + 1), cumulative_variance, 'bo-')\n",
    "plt.xlabel('Number of Components')\n",
    "plt.ylabel('Cumulative Explained Variance')\n",
    "plt.title('Cumulative Explained Variance')\n",
    "plt.grid(True, alpha=0.3)\n",
    "\n",
    "plt.tight_layout()\n",
    "plt.show()"
   ]
  },
  {
   "cell_type": "code",
   "execution_count": null,
   "metadata": {},
   "outputs": [],
   "source": [
    "# Scatter plot of first two principal components\n",
    "plt.figure(figsize=(12, 8))\n",
    "\n",
    "# Color by private/public for comparison\n",
    "private_mask = df['Private'] == 'Yes'\n",
    "\n",
    "plt.scatter(X_pca[private_mask, 0], X_pca[private_mask, 1], \n",
    "           alpha=0.6, label='Private', s=50)\n",
    "plt.scatter(X_pca[~private_mask, 0], X_pca[~private_mask, 1], \n",
    "           alpha=0.6, label='Public', s=50)\n",
    "\n",
    "plt.xlabel(f'PC1 ({explained_variance_ratio[0]*100:.1f}% variance)')\n",
    "plt.ylabel(f'PC2 ({explained_variance_ratio[1]*100:.1f}% variance)')\n",
    "plt.title('College Data in PCA Space (First Two Components)')\n",
    "plt.legend()\n",
    "plt.grid(True, alpha=0.3)\n",
    "plt.tight_layout()\n",
    "plt.show()"
   ]
  },
  {
   "cell_type": "markdown",
   "metadata": {},
   "source": [
    "### 2.4 Interpret Principal Components"
   ]
  },
  {
   "cell_type": "code",
   "execution_count": null,
   "metadata": {},
   "outputs": [],
   "source": [
    "# Analyze what each principal component represents\n",
    "# by looking at the feature loadings (components)\n",
    "\n",
    "def plot_component_loadings(components, feature_names, component_idx, n_top=10):\n",
    "    \"\"\"Plot the top feature loadings for a principal component\"\"\"\n",
    "    loadings = components[:, component_idx]\n",
    "    \n",
    "    # Get indices of features with highest absolute loadings\n",
    "    top_indices = np.argsort(np.abs(loadings))[-n_top:]\n",
    "    \n",
    "    plt.figure(figsize=(10, 6))\n",
    "    y_pos = range(len(top_indices))\n",
    "    \n",
    "    plt.barh(y_pos, loadings[top_indices])\n",
    "    plt.yticks(y_pos, [feature_names[i] for i in top_indices])\n",
    "    plt.xlabel('Component Loading')\n",
    "    plt.title(f'PC{component_idx + 1} Feature Loadings (Top {n_top})')\n",
    "    plt.grid(True, alpha=0.3)\n",
    "    plt.tight_layout()\n",
    "    plt.show()\n",
    "    \n",
    "    return top_indices, loadings[top_indices]\n",
    "\n",
    "# Analyze first two principal components\n",
    "print(\"PC1 - Most Important Features:\")\n",
    "pc1_indices, pc1_loadings = plot_component_loadings(components, numeric_features, 0)\n",
    "\n",
    "print(\"\\nPC2 - Most Important Features:\")\n",
    "pc2_indices, pc2_loadings = plot_component_loadings(components, numeric_features, 1)"
   ]
  },
  {
   "cell_type": "markdown",
   "metadata": {},
   "source": [
    "### 2.5 PCA Insights & Interpretation\n",
    "\n",
    "**Write your analysis here:**\n",
    "\n",
    "*Based on the PCA results and component loadings above, describe what you think each principal component represents in terms of college characteristics.*\n",
    "\n",
    "**PC1 Interpretation:**\n",
    "- This component seems to represent: [YOUR INTERPRETATION]\n",
    "- Key features: [LIST TOP FEATURES AND THEIR SIGNS]\n",
    "- Real-world meaning: [WHAT DOES THIS AXIS REPRESENT?]\n",
    "\n",
    "**PC2 Interpretation:**\n",
    "- This component seems to represent: [YOUR INTERPRETATION]  \n",
    "- Key features: [LIST TOP FEATURES AND THEIR SIGNS]\n",
    "- Real-world meaning: [WHAT DOES THIS AXIS REPRESENT?]\n"
   ]
  },
  {
   "cell_type": "markdown",
   "metadata": {},
   "source": [
    "---\n",
    "\n",
    "## Part 3: Comparison & Critical Analysis\n",
    "\n",
    "Now compare your naive feature selection approach with the PCA-based analysis."
   ]
  },
  {
   "cell_type": "markdown",
   "metadata": {},
   "source": [
    "### 3.1 Side-by-Side Comparison"
   ]
  },
  {
   "cell_type": "code",
   "execution_count": null,
   "metadata": {},
   "outputs": [],
   "source": "# TODO: Create side-by-side comparison plots\nfig, axes = plt.subplots(1, 2, figsize=(18, 7))\n\n# Left plot: Your naive approach (modify as needed)\n# TODO: Recreate your naive visualization\nprivate_colleges = df[df['Private'] == 'Yes']\npublic_colleges = df[df['Private'] == 'No']\n\n# TODO: Uncomment and modify these lines with your chosen features\n# axes[0].scatter(private_colleges[feature1], private_colleges[feature2], \n#                alpha=0.6, label='Private', s=50)\n# axes[0].scatter(public_colleges[feature1], public_colleges[feature2], \n#                alpha=0.6, label='Public', s=50)\n# axes[0].set_xlabel(feature1)\n# axes[0].set_ylabel(feature2)\n# axes[0].set_title('Naive Feature Selection')\n# axes[0].legend()\n# axes[0].grid(True, alpha=0.3)\n\n# Right plot: PCA approach\nprivate_mask = df['Private'] == 'Yes'\naxes[1].scatter(X_pca[private_mask, 0], X_pca[private_mask, 1], \n               alpha=0.6, label='Private', s=50)\naxes[1].scatter(X_pca[~private_mask, 0], X_pca[~private_mask, 1], \n               alpha=0.6, label='Public', s=50)\naxes[1].set_xlabel(f'PC1 ({explained_variance_ratio[0]*100:.1f}% variance)')\naxes[1].set_ylabel(f'PC2 ({explained_variance_ratio[1]*100:.1f}% variance)')\naxes[1].set_title('PCA-Based Analysis')\naxes[1].legend()\naxes[1].grid(True, alpha=0.3)\n\nplt.tight_layout()\nplt.show()"
  },
  {
   "cell_type": "markdown",
   "metadata": {},
   "source": [
    "### 3.2 Critical Comparison & Reflection\n",
    "\n",
    "**Write your comprehensive analysis here:**\n",
    "\n",
    "**Comparison Questions:**\n",
    "\n",
    "1. **What new insights did PCA reveal that your naive approach missed?**\n",
    "   - [YOUR RESPONSE]\n",
    "\n",
    "2. **How do the patterns/clusters compare between the two approaches?**\n",
    "   - [YOUR RESPONSE]\n",
    "\n",
    "3. **Which approach better separates different types of colleges? Why?**\n",
    "   - [YOUR RESPONSE]\n",
    "\n",
    "4. **What are the advantages and disadvantages of each approach?**\n",
    "   \n",
    "   **Naive Feature Selection:**\n",
    "   - Advantages: [LIST]\n",
    "   - Disadvantages: [LIST]\n",
    "   \n",
    "   **PCA Approach:**\n",
    "   - Advantages: [LIST] \n",
    "   - Disadvantages: [LIST]\n",
    "\n",
    "5. **When might you prefer one approach over the other?**\n",
    "   - [YOUR RESPONSE]\n",
    "\n",
    "6. **How did implementing matrix multiplication by hand affect your understanding of PCA?**\n",
    "   - [YOUR RESPONSE]\n"
   ]
  },
  {
   "cell_type": "markdown",
   "metadata": {},
   "source": [
    "---\n",
    "\n",
    "## Part 4: Communication & Peer Review Preparation\n",
    "\n",
    "Prepare a clear summary of your findings for peer review."
   ]
  },
  {
   "cell_type": "markdown",
   "metadata": {},
   "source": [
    "### 4.1 Executive Summary\n",
    "\n",
    "**Write a concise summary (1-3 paragraphs) that someone unfamiliar with your analysis could understand:**\n",
    "\n",
    "**Dataset & Goal:**\n",
    "[Describe the college dataset and what you were trying to understand]\n",
    "\n",
    "**Approach:**\n",
    "[Briefly explain both the naive and PCA approaches you used]\n",
    "\n",
    "**Key Findings:**\n",
    "[Summarize the most important insights from both approaches]\n",
    "\n",
    "**Conclusions:**\n",
    "[What did you learn about college data and about dimensionality reduction techniques?]\n"
   ]
  },
  {
   "cell_type": "markdown",
   "metadata": {},
   "source": [
    "### 4.2 Questions for Peer Reviewers\n",
    "\n",
    "**List 2-3 specific questions you'd like your peers to address when reviewing your work:**\n",
    "\n",
    "1. [YOUR QUESTION - e.g., \"Do you agree with my interpretation of PC1? What would you call it?\"]\n",
    "\n",
    "2. [YOUR QUESTION - e.g., \"Are there other feature combinations I should have tried in my naive approach?\"]\n",
    "\n",
    "3. [YOUR QUESTION - e.g., \"What limitations do you see in my analysis that I may have missed?\"]\n"
   ]
  },
  {
   "cell_type": "markdown",
   "metadata": {},
   "source": [
    "---\n",
    "\n",
    "## Submission Checklist\n",
    "\n",
    "Before submitting, verify you have:\n",
    "\n",
    "- [ ] Completed all code cells with your custom implementations\n",
    "- [ ] Provided thoughtful written responses to all reflection questions\n",
    "- [ ] Created clear, well-labeled visualizations\n",
    "- [ ] Written an executive summary suitable for peer review\n",
    "- [ ] Prepared specific questions for your peer reviewers\n",
    "- [ ] Tested that your PCA implementation works correctly with the college data\n",
    "- [ ] Exported the notebook as PDF for submission\n",
    "\n",
    "**Note:** Focus on clear communication and critical thinking. Your peers will be evaluating both your technical implementation and your ability to explain insights from data."
   ]
  }
 ],
 "metadata": {
  "kernelspec": {
   "display_name": "Python 3",
   "language": "python",
   "name": "python3"
  },
  "language_info": {
   "codemirror_mode": {
    "name": "ipython",
    "version": 3
   },
   "file_extension": ".py",
   "mimetype": "text/x-python",
   "name": "python",
   "nbconvert_exporter": "python",
   "pygments_lexer": "ipython3",
   "version": "3.8.5"
  }
 },
 "nbformat": 4,
 "nbformat_minor": 4
}
