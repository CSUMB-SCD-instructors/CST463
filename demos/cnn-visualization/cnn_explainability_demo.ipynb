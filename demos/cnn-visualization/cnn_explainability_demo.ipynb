{
 "cells": [
  {
   "cell_type": "markdown",
   "metadata": {},
   "source": [
    "# CNN Explainability Demo\n",
    "\n",
    "This notebook demonstrates three key techniques for understanding what Convolutional Neural Networks learn:\n",
    "\n",
    "1. **Filter Visualizations**: See what patterns individual filters detect\n",
    "2. **Activation Maximization**: Generate images that maximally activate specific filters\n",
    "3. **Class Activation Maps (Grad-CAM)**: Visualize which input regions drive predictions\n",
    "\n",
    "We'll use a simple 2-layer CNN trained on either MNIST or Fashion-MNIST to keep things interpretable."
   ]
  },
  {
   "cell_type": "markdown",
   "metadata": {},
   "source": [
    "## Configuration\n",
    "\n",
    "Choose your dataset and training parameters here."
   ]
  },
  {
   "cell_type": "code",
   "execution_count": null,
   "metadata": {
    "ExecuteTime": {
     "end_time": "2025-10-29T14:13:09.021820Z",
     "start_time": "2025-10-29T14:13:09.018217Z"
    }
   },
   "outputs": [
    {
     "name": "stdout",
     "output_type": "stream",
     "text": [
      "Configuration: MNIST dataset\n",
      "Model path: saved_models/mnist_simple_cnn.h5\n"
     ]
    }
   ],
   "source": [
    "# Dataset selection - change this to 'fashion_mnist' to switch datasets\n",
    "DATASET = 'mnist'  # Options: 'mnist' or 'fashion_mnist'\n",
    "\n",
    "# Training parameters\n",
    "TRAIN_NEW_MODEL = False  # Set to True to train from scratch, False to load pre-trained\n",
    "EPOCHS = 5\n",
    "BATCH_SIZE = 128\n",
    "LEARNING_RATE = 0.001\n",
    "\n",
    "# Model will be saved/loaded from:\n",
    "MODEL_PATH = f'saved_models/{DATASET}_simple_cnn.h5'\n",
    "\n",
    "print(f\"Configuration: {DATASET.upper()} dataset\")\n",
    "print(f\"Model path: {MODEL_PATH}\")"
   ]
  },
  {
   "cell_type": "markdown",
   "metadata": {},
   "source": [
    "## Imports and Setup"
   ]
  },
  {
   "cell_type": "code",
   "execution_count": 2,
   "metadata": {
    "ExecuteTime": {
     "end_time": "2025-10-29T14:13:12.202026Z",
     "start_time": "2025-10-29T14:13:09.032422Z"
    }
   },
   "outputs": [
    {
     "name": "stdout",
     "output_type": "stream",
     "text": [
      "TensorFlow version: 2.20.0\n",
      "GPU available: False\n"
     ]
    }
   ],
   "source": [
    "import tensorflow as tf\n",
    "from tensorflow import keras\n",
    "from tensorflow.keras import layers, models\n",
    "from tensorflow.keras.datasets import mnist, fashion_mnist\n",
    "import numpy as np\n",
    "import matplotlib.pyplot as plt\n",
    "from matplotlib import cm\n",
    "import os\n",
    "\n",
    "# Set random seeds for reproducibility\n",
    "np.random.seed(42)\n",
    "tf.random.set_seed(42)\n",
    "\n",
    "# Check TensorFlow version and GPU availability\n",
    "print(f\"TensorFlow version: {tf.__version__}\")\n",
    "print(f\"GPU available: {len(tf.config.list_physical_devices('GPU')) > 0}\")\n",
    "\n",
    "# Class labels for visualization\n",
    "if DATASET == 'mnist':\n",
    "    CLASS_NAMES = [str(i) for i in range(10)]\n",
    "else:  # fashion_mnist\n",
    "    CLASS_NAMES = ['T-shirt/top', 'Trouser', 'Pullover', 'Dress', 'Coat',\n",
    "                   'Sandal', 'Shirt', 'Sneaker', 'Bag', 'Ankle boot']"
   ]
  },
  {
   "cell_type": "markdown",
   "metadata": {},
   "source": [
    "## Load Dataset"
   ]
  },
  {
   "cell_type": "code",
   "execution_count": 3,
   "metadata": {
    "ExecuteTime": {
     "end_time": "2025-10-29T14:13:13.873584Z",
     "start_time": "2025-10-29T14:13:13.611377Z"
    }
   },
   "outputs": [
    {
     "name": "stdout",
     "output_type": "stream",
     "text": [
      "Loaded mnist: 60000 training samples, 10000 test samples\n",
      "Image shape: (28, 28, 1)\n",
      "Value range: [-1.00, 1.00]\n"
     ]
    }
   ],
   "source": [
    "# Load dataset\n",
    "if DATASET == 'mnist':\n",
    "    (x_train, y_train), (x_test, y_test) = mnist.load_data()\n",
    "else:  # fashion_mnist\n",
    "    (x_train, y_train), (x_test, y_test) = fashion_mnist.load_data()\n",
    "\n",
    "# Preprocess data\n",
    "x_train = x_train.reshape(-1, 28, 28, 1).astype('float32') / 255.0\n",
    "x_test = x_test.reshape(-1, 28, 28, 1).astype('float32') / 255.0\n",
    "\n",
    "# Normalize to [-1, 1] range\n",
    "x_train = (x_train - 0.5) * 2\n",
    "x_test = (x_test - 0.5) * 2\n",
    "\n",
    "print(f\"Loaded {DATASET}: {len(x_train)} training samples, {len(x_test)} test samples\")\n",
    "print(f\"Image shape: {x_train.shape[1:]}\")\n",
    "print(f\"Value range: [{x_train.min():.2f}, {x_train.max():.2f}]\")"
   ]
  },
  {
   "cell_type": "markdown",
   "metadata": {},
   "source": [
    "## Define Simple CNN Architecture\n",
    "\n",
    "We use a deliberately simple architecture:\n",
    "- **Conv Layer 1**: 8 filters, 3x3 kernel\n",
    "- **Conv Layer 2**: 8 filters, 3x3 kernel\n",
    "- **Fully Connected**: Output layer\n",
    "\n",
    "This small architecture makes it easier to visualize and understand what each filter learns."
   ]
  },
  {
   "cell_type": "code",
   "execution_count": 4,
   "metadata": {
    "ExecuteTime": {
     "end_time": "2025-10-29T14:13:36.301060Z",
     "start_time": "2025-10-29T14:13:36.261666Z"
    }
   },
   "outputs": [
    {
     "name": "stderr",
     "output_type": "stream",
     "text": [
      "/Users/ssogden/repos/classes/CST463-golden/.venv/lib/python3.12/site-packages/keras/src/layers/convolutional/base_conv.py:113: UserWarning: Do not pass an `input_shape`/`input_dim` argument to a layer. When using Sequential models, prefer using an `Input(shape)` object as the first layer in the model instead.\n",
      "  super().__init__(activity_regularizer=activity_regularizer, **kwargs)\n"
     ]
    },
    {
     "data": {
      "text/html": [
       "<pre style=\"white-space:pre;overflow-x:auto;line-height:normal;font-family:Menlo,'DejaVu Sans Mono',consolas,'Courier New',monospace\"><span style=\"font-weight: bold\">Model: \"sequential\"</span>\n",
       "</pre>\n"
      ],
      "text/plain": [
       "\u001b[1mModel: \"sequential\"\u001b[0m\n"
      ]
     },
     "metadata": {},
     "output_type": "display_data"
    },
    {
     "data": {
      "text/html": [
       "<pre style=\"white-space:pre;overflow-x:auto;line-height:normal;font-family:Menlo,'DejaVu Sans Mono',consolas,'Courier New',monospace\">┏━━━━━━━━━━━━━━━━━━━━━━━━━━━━━━━━━┳━━━━━━━━━━━━━━━━━━━━━━━━┳━━━━━━━━━━━━━━━┓\n",
       "┃<span style=\"font-weight: bold\"> Layer (type)                    </span>┃<span style=\"font-weight: bold\"> Output Shape           </span>┃<span style=\"font-weight: bold\">       Param # </span>┃\n",
       "┡━━━━━━━━━━━━━━━━━━━━━━━━━━━━━━━━━╇━━━━━━━━━━━━━━━━━━━━━━━━╇━━━━━━━━━━━━━━━┩\n",
       "│ conv1 (<span style=\"color: #0087ff; text-decoration-color: #0087ff\">Conv2D</span>)                  │ (<span style=\"color: #00d7ff; text-decoration-color: #00d7ff\">None</span>, <span style=\"color: #00af00; text-decoration-color: #00af00\">28</span>, <span style=\"color: #00af00; text-decoration-color: #00af00\">28</span>, <span style=\"color: #00af00; text-decoration-color: #00af00\">8</span>)      │            <span style=\"color: #00af00; text-decoration-color: #00af00\">80</span> │\n",
       "├─────────────────────────────────┼────────────────────────┼───────────────┤\n",
       "│ pool1 (<span style=\"color: #0087ff; text-decoration-color: #0087ff\">MaxPooling2D</span>)            │ (<span style=\"color: #00d7ff; text-decoration-color: #00d7ff\">None</span>, <span style=\"color: #00af00; text-decoration-color: #00af00\">14</span>, <span style=\"color: #00af00; text-decoration-color: #00af00\">14</span>, <span style=\"color: #00af00; text-decoration-color: #00af00\">8</span>)      │             <span style=\"color: #00af00; text-decoration-color: #00af00\">0</span> │\n",
       "├─────────────────────────────────┼────────────────────────┼───────────────┤\n",
       "│ conv2 (<span style=\"color: #0087ff; text-decoration-color: #0087ff\">Conv2D</span>)                  │ (<span style=\"color: #00d7ff; text-decoration-color: #00d7ff\">None</span>, <span style=\"color: #00af00; text-decoration-color: #00af00\">14</span>, <span style=\"color: #00af00; text-decoration-color: #00af00\">14</span>, <span style=\"color: #00af00; text-decoration-color: #00af00\">4</span>)      │           <span style=\"color: #00af00; text-decoration-color: #00af00\">292</span> │\n",
       "├─────────────────────────────────┼────────────────────────┼───────────────┤\n",
       "│ pool2 (<span style=\"color: #0087ff; text-decoration-color: #0087ff\">MaxPooling2D</span>)            │ (<span style=\"color: #00d7ff; text-decoration-color: #00d7ff\">None</span>, <span style=\"color: #00af00; text-decoration-color: #00af00\">7</span>, <span style=\"color: #00af00; text-decoration-color: #00af00\">7</span>, <span style=\"color: #00af00; text-decoration-color: #00af00\">4</span>)        │             <span style=\"color: #00af00; text-decoration-color: #00af00\">0</span> │\n",
       "├─────────────────────────────────┼────────────────────────┼───────────────┤\n",
       "│ flatten (<span style=\"color: #0087ff; text-decoration-color: #0087ff\">Flatten</span>)               │ (<span style=\"color: #00d7ff; text-decoration-color: #00d7ff\">None</span>, <span style=\"color: #00af00; text-decoration-color: #00af00\">196</span>)            │             <span style=\"color: #00af00; text-decoration-color: #00af00\">0</span> │\n",
       "├─────────────────────────────────┼────────────────────────┼───────────────┤\n",
       "│ output (<span style=\"color: #0087ff; text-decoration-color: #0087ff\">Dense</span>)                  │ (<span style=\"color: #00d7ff; text-decoration-color: #00d7ff\">None</span>, <span style=\"color: #00af00; text-decoration-color: #00af00\">10</span>)             │         <span style=\"color: #00af00; text-decoration-color: #00af00\">1,970</span> │\n",
       "└─────────────────────────────────┴────────────────────────┴───────────────┘\n",
       "</pre>\n"
      ],
      "text/plain": [
       "┏━━━━━━━━━━━━━━━━━━━━━━━━━━━━━━━━━┳━━━━━━━━━━━━━━━━━━━━━━━━┳━━━━━━━━━━━━━━━┓\n",
       "┃\u001b[1m \u001b[0m\u001b[1mLayer (type)                   \u001b[0m\u001b[1m \u001b[0m┃\u001b[1m \u001b[0m\u001b[1mOutput Shape          \u001b[0m\u001b[1m \u001b[0m┃\u001b[1m \u001b[0m\u001b[1m      Param #\u001b[0m\u001b[1m \u001b[0m┃\n",
       "┡━━━━━━━━━━━━━━━━━━━━━━━━━━━━━━━━━╇━━━━━━━━━━━━━━━━━━━━━━━━╇━━━━━━━━━━━━━━━┩\n",
       "│ conv1 (\u001b[38;5;33mConv2D\u001b[0m)                  │ (\u001b[38;5;45mNone\u001b[0m, \u001b[38;5;34m28\u001b[0m, \u001b[38;5;34m28\u001b[0m, \u001b[38;5;34m8\u001b[0m)      │            \u001b[38;5;34m80\u001b[0m │\n",
       "├─────────────────────────────────┼────────────────────────┼───────────────┤\n",
       "│ pool1 (\u001b[38;5;33mMaxPooling2D\u001b[0m)            │ (\u001b[38;5;45mNone\u001b[0m, \u001b[38;5;34m14\u001b[0m, \u001b[38;5;34m14\u001b[0m, \u001b[38;5;34m8\u001b[0m)      │             \u001b[38;5;34m0\u001b[0m │\n",
       "├─────────────────────────────────┼────────────────────────┼───────────────┤\n",
       "│ conv2 (\u001b[38;5;33mConv2D\u001b[0m)                  │ (\u001b[38;5;45mNone\u001b[0m, \u001b[38;5;34m14\u001b[0m, \u001b[38;5;34m14\u001b[0m, \u001b[38;5;34m4\u001b[0m)      │           \u001b[38;5;34m292\u001b[0m │\n",
       "├─────────────────────────────────┼────────────────────────┼───────────────┤\n",
       "│ pool2 (\u001b[38;5;33mMaxPooling2D\u001b[0m)            │ (\u001b[38;5;45mNone\u001b[0m, \u001b[38;5;34m7\u001b[0m, \u001b[38;5;34m7\u001b[0m, \u001b[38;5;34m4\u001b[0m)        │             \u001b[38;5;34m0\u001b[0m │\n",
       "├─────────────────────────────────┼────────────────────────┼───────────────┤\n",
       "│ flatten (\u001b[38;5;33mFlatten\u001b[0m)               │ (\u001b[38;5;45mNone\u001b[0m, \u001b[38;5;34m196\u001b[0m)            │             \u001b[38;5;34m0\u001b[0m │\n",
       "├─────────────────────────────────┼────────────────────────┼───────────────┤\n",
       "│ output (\u001b[38;5;33mDense\u001b[0m)                  │ (\u001b[38;5;45mNone\u001b[0m, \u001b[38;5;34m10\u001b[0m)             │         \u001b[38;5;34m1,970\u001b[0m │\n",
       "└─────────────────────────────────┴────────────────────────┴───────────────┘\n"
      ]
     },
     "metadata": {},
     "output_type": "display_data"
    },
    {
     "data": {
      "text/html": [
       "<pre style=\"white-space:pre;overflow-x:auto;line-height:normal;font-family:Menlo,'DejaVu Sans Mono',consolas,'Courier New',monospace\"><span style=\"font-weight: bold\"> Total params: </span><span style=\"color: #00af00; text-decoration-color: #00af00\">2,342</span> (9.15 KB)\n",
       "</pre>\n"
      ],
      "text/plain": [
       "\u001b[1m Total params: \u001b[0m\u001b[38;5;34m2,342\u001b[0m (9.15 KB)\n"
      ]
     },
     "metadata": {},
     "output_type": "display_data"
    },
    {
     "data": {
      "text/html": [
       "<pre style=\"white-space:pre;overflow-x:auto;line-height:normal;font-family:Menlo,'DejaVu Sans Mono',consolas,'Courier New',monospace\"><span style=\"font-weight: bold\"> Trainable params: </span><span style=\"color: #00af00; text-decoration-color: #00af00\">2,342</span> (9.15 KB)\n",
       "</pre>\n"
      ],
      "text/plain": [
       "\u001b[1m Trainable params: \u001b[0m\u001b[38;5;34m2,342\u001b[0m (9.15 KB)\n"
      ]
     },
     "metadata": {},
     "output_type": "display_data"
    },
    {
     "data": {
      "text/html": [
       "<pre style=\"white-space:pre;overflow-x:auto;line-height:normal;font-family:Menlo,'DejaVu Sans Mono',consolas,'Courier New',monospace\"><span style=\"font-weight: bold\"> Non-trainable params: </span><span style=\"color: #00af00; text-decoration-color: #00af00\">0</span> (0.00 B)\n",
       "</pre>\n"
      ],
      "text/plain": [
       "\u001b[1m Non-trainable params: \u001b[0m\u001b[38;5;34m0\u001b[0m (0.00 B)\n"
      ]
     },
     "metadata": {},
     "output_type": "display_data"
    }
   ],
   "source": [
    "def create_simple_cnn():\n",
    "    \"\"\"Create a simple 2-layer CNN for visualization.\"\"\"\n",
    "    model = models.Sequential([\n",
    "        # First convolutional layer: 8 filters, 3x3 kernel\n",
    "        layers.Conv2D(8, (3, 3), activation='relu', padding='same', \n",
    "                     input_shape=(28, 28, 1), name='conv1'),\n",
    "        layers.MaxPooling2D((2, 2), name='pool1'),  # 28x28 -> 14x14\n",
    "        \n",
    "        # Second convolutional layer: 8 filters, 3x3 kernel\n",
    "        layers.Conv2D(4, (3, 3), activation='relu', padding='same', name='conv2'),\n",
    "        layers.MaxPooling2D((2, 2), name='pool2'),  # 14x14 -> 7x7\n",
    "        \n",
    "        # Fully connected layer\n",
    "        layers.Flatten(),\n",
    "        layers.Dense(10, name='output')\n",
    "    ])\n",
    "    \n",
    "    return model\n",
    "\n",
    "# Create model\n",
    "model = create_simple_cnn()\n",
    "model.summary()\n",
    "\n",
    "# Compile model\n",
    "model.compile(\n",
    "    optimizer=keras.optimizers.Adam(learning_rate=LEARNING_RATE),\n",
    "    loss=keras.losses.SparseCategoricalCrossentropy(from_logits=True),\n",
    "    metrics=['accuracy']\n",
    ")"
   ]
  },
  {
   "cell_type": "markdown",
   "metadata": {},
   "source": [
    "## Training (or Load Pre-trained Model)"
   ]
  },
  {
   "cell_type": "code",
   "execution_count": 5,
   "metadata": {
    "ExecuteTime": {
     "end_time": "2025-10-29T14:13:51.239703Z",
     "start_time": "2025-10-29T14:13:39.037593Z"
    }
   },
   "outputs": [
    {
     "name": "stdout",
     "output_type": "stream",
     "text": [
      "Training new model...\n",
      "Epoch 1/5\n",
      "\u001b[1m469/469\u001b[0m \u001b[32m━━━━━━━━━━━━━━━━━━━━\u001b[0m\u001b[37m\u001b[0m \u001b[1m2s\u001b[0m 4ms/step - accuracy: 0.8093 - loss: 0.6424 - val_accuracy: 0.9238 - val_loss: 0.2499\n",
      "Epoch 2/5\n",
      "\u001b[1m469/469\u001b[0m \u001b[32m━━━━━━━━━━━━━━━━━━━━\u001b[0m\u001b[37m\u001b[0m \u001b[1m2s\u001b[0m 4ms/step - accuracy: 0.9389 - loss: 0.2036 - val_accuracy: 0.9532 - val_loss: 0.1508\n",
      "Epoch 3/5\n",
      "\u001b[1m469/469\u001b[0m \u001b[32m━━━━━━━━━━━━━━━━━━━━\u001b[0m\u001b[37m\u001b[0m \u001b[1m2s\u001b[0m 4ms/step - accuracy: 0.9576 - loss: 0.1406 - val_accuracy: 0.9644 - val_loss: 0.1116\n",
      "Epoch 4/5\n",
      "\u001b[1m469/469\u001b[0m \u001b[32m━━━━━━━━━━━━━━━━━━━━\u001b[0m\u001b[37m\u001b[0m \u001b[1m2s\u001b[0m 4ms/step - accuracy: 0.9651 - loss: 0.1142 - val_accuracy: 0.9695 - val_loss: 0.0934\n",
      "Epoch 5/5\n",
      "\u001b[1m469/469\u001b[0m \u001b[32m━━━━━━━━━━━━━━━━━━━━\u001b[0m\u001b[37m\u001b[0m \u001b[1m2s\u001b[0m 4ms/step - accuracy: 0.9695 - loss: 0.0997 - val_accuracy: 0.9720 - val_loss: 0.0830\n"
     ]
    },
    {
     "name": "stderr",
     "output_type": "stream",
     "text": [
      "WARNING:absl:You are saving your model as an HDF5 file via `model.save()` or `keras.saving.save_model(model)`. This file format is considered legacy. We recommend using instead the native Keras format, e.g. `model.save('my_model.keras')` or `keras.saving.save_model(model, 'my_model.keras')`. \n"
     ]
    },
    {
     "name": "stdout",
     "output_type": "stream",
     "text": [
      "\n",
      "Final test accuracy: 97.20%\n",
      "Model saved to saved_models/mnist_simple_cnn.h5\n"
     ]
    }
   ],
   "source": [
    "# Train or load model\n",
    "if TRAIN_NEW_MODEL:\n",
    "    print(\"Training new model...\")\n",
    "    \n",
    "    history = model.fit(\n",
    "        x_train, y_train,\n",
    "        batch_size=BATCH_SIZE,\n",
    "        epochs=EPOCHS,\n",
    "        validation_data=(x_test, y_test),\n",
    "        verbose=1\n",
    "    )\n",
    "    \n",
    "    # Evaluate final accuracy\n",
    "    test_loss, test_acc = model.evaluate(x_test, y_test, verbose=0)\n",
    "    print(f\"\\nFinal test accuracy: {test_acc*100:.2f}%\")\n",
    "    \n",
    "    # Save the trained model\n",
    "    os.makedirs('saved_models', exist_ok=True)\n",
    "    model.save(MODEL_PATH)\n",
    "    print(f\"Model saved to {MODEL_PATH}\")\n",
    "    \n",
    "else:\n",
    "    if os.path.exists(MODEL_PATH):\n",
    "        print(f\"Loading pre-trained model from {MODEL_PATH}\")\n",
    "        model = keras.models.load_model(MODEL_PATH)\n",
    "        \n",
    "        # Evaluate to show performance\n",
    "        test_loss, test_acc = model.evaluate(x_test, y_test, verbose=0)\n",
    "        print(f\"Model loaded successfully!\")\n",
    "        print(f\"Test accuracy: {test_acc*100:.2f}%\")\n",
    "    else:\n",
    "        print(f\"No pre-trained model found at {MODEL_PATH}\")\n",
    "        print(\"Set TRAIN_NEW_MODEL = True to train a new model\")"
   ]
  },
  {
   "cell_type": "markdown",
   "metadata": {},
   "source": [
    "---\n",
    "# Method 1: Filter Visualizations\n",
    "\n",
    "We'll visualize what patterns the convolutional filters learn in two ways:\n",
    "1. **Filter weights**: The raw learned kernels\n",
    "2. **Feature maps**: What the filters activate on when shown real images"
   ]
  },
  {
   "cell_type": "markdown",
   "metadata": {},
   "source": [
    "## 1.1: Visualize Filter Weights (Raw Values + Heatmaps)"
   ]
  },
  {
   "cell_type": "code",
   "execution_count": 6,
   "metadata": {
    "ExecuteTime": {
     "end_time": "2025-10-29T14:13:59.398839Z",
     "start_time": "2025-10-29T14:13:58.954766Z"
    }
   },
   "outputs": [
    {
     "name": "stdout",
     "output_type": "stream",
     "text": [
      "\n",
      "============================================================\n",
      "CONV1 - Filter Weights\n",
      "============================================================\n",
      "Shape: (3, 3, 1, 8) (height, width, in_channels, filters)\n",
      "\n",
      "Raw weight values for Filter 0, Channel 0:\n",
      "[[-0.37896422 -0.49241692 -0.11159258]\n",
      " [ 0.26522166 -0.25866368  0.03942073]\n",
      " [ 0.5167847   0.40683505  0.05655925]]\n",
      "\n",
      "Min: -0.4924, Max: 0.5168\n",
      "\n"
     ]
    },
    {
     "data": {
      "image/png": "[encoded data removed]",
      "text/plain": [
       "<Figure size 1200x150 with 8 Axes>"
      ]
     },
     "metadata": {},
     "output_type": "display_data"
    },
    {
     "name": "stdout",
     "output_type": "stream",
     "text": [
      "\n",
      "============================================================\n",
      "CONV2 - Filter Weights\n",
      "============================================================\n",
      "Shape: (3, 3, 8, 4) (height, width, in_channels, filters)\n",
      "\n",
      "Raw weight values for Filter 0, Channel 0:\n",
      "[[-0.06146873 -0.04542069 -0.5543591 ]\n",
      " [ 0.4688225   0.43856588 -0.08236688]\n",
      " [ 0.26103443  0.13101475 -0.04104816]]\n",
      "\n",
      "Min: -0.5544, Max: 0.4688\n",
      "\n"
     ]
    },
    {
     "data": {
      "image/png": "[encoded data removed]",
      "text/plain": [
       "<Figure size 600x1200 with 32 Axes>"
      ]
     },
     "metadata": {},
     "output_type": "display_data"
    }
   ],
   "source": [
    "def visualize_conv_filters(model, layer_name):\n",
    "    \"\"\"\n",
    "    Visualize the learned filters of a convolutional layer.\n",
    "    Shows both raw float values and heatmap visualizations.\n",
    "    \"\"\"\n",
    "    # Get the layer\n",
    "    layer = model.get_layer(layer_name)\n",
    "    \n",
    "    # Get filter weights: shape is (height, width, in_channels, out_channels)\n",
    "    weights = layer.get_weights()[0]  # [0] is weights, [1] is biases\n",
    "    num_filters = weights.shape[3]\n",
    "    in_channels = weights.shape[2]\n",
    "    \n",
    "    print(f\"\\n{'='*60}\")\n",
    "    print(f\"{layer_name.upper()} - Filter Weights\")\n",
    "    print(f\"{'='*60}\")\n",
    "    print(f\"Shape: {weights.shape} (height, width, in_channels, filters)\\n\")\n",
    "    \n",
    "    # Print raw values for first filter as example\n",
    "    print(f\"Raw weight values for Filter 0, Channel 0:\")\n",
    "    print(weights[:, :, 0, 0])\n",
    "    print(f\"\\nMin: {weights[:, :, 0, 0].min():.4f}, Max: {weights[:, :, 0, 0].max():.4f}\\n\")\n",
    "    \n",
    "    # Visualize all filters\n",
    "    fig, axes = plt.subplots(in_channels, num_filters, figsize=(num_filters * 1.5, in_channels * 1.5))\n",
    "    if in_channels == 1:\n",
    "        axes = axes.reshape(1, -1)\n",
    "    \n",
    "    for i in range(in_channels):\n",
    "        for j in range(num_filters):\n",
    "            ax = axes[i, j] if in_channels > 1 else axes[0, j]\n",
    "            \n",
    "            # Get filter weights for this channel and filter\n",
    "            w = weights[:, :, i, j]\n",
    "            \n",
    "            # Normalize for visualization\n",
    "            im = ax.imshow(w, cmap='RdBu', vmin=-abs(w).max(), vmax=abs(w).max())\n",
    "            \n",
    "            if i == 0:\n",
    "                ax.set_title(f'Filter {j}', fontsize=10)\n",
    "            if j == 0:\n",
    "                ax.set_ylabel(f'In Ch {i}', fontsize=10)\n",
    "            ax.axis('off')\n",
    "    \n",
    "    plt.suptitle(f'{layer_name.upper()} - Learned Filters (red=positive, blue=negative)', fontsize=12)\n",
    "    plt.tight_layout()\n",
    "    plt.show()\n",
    "\n",
    "# Visualize both convolutional layers\n",
    "visualize_conv_filters(model, 'conv1')\n",
    "visualize_conv_filters(model, 'conv2')"
   ]
  },
  {
   "cell_type": "markdown",
   "metadata": {},
   "source": [
    "## 1.2: Visualize Feature Maps (Filter Activations on Real Images)"
   ]
  },
  {
   "cell_type": "code",
   "execution_count": null,
   "metadata": {
    "ExecuteTime": {
     "end_time": "2025-10-29T14:14:03.281560Z",
     "start_time": "2025-10-29T14:14:03.220004Z"
    }
   },
   "outputs": [],
   "source": [
    "def visualize_feature_maps(model, image, label, class_names):\n",
    "    \"\"\"\n",
    "    Visualize what each filter \"sees\" when processing a real image.\n",
    "    \"\"\"\n",
    "    # Get predictions\n",
    "    image_batch = np.expand_dims(image, axis=0)  # Add batch dimension\n",
    "    predictions = model.predict(image_batch, verbose=0)\n",
    "    prediction = np.argmax(predictions[0])\n",
    "    \n",
    "    # Create an explicit input tensor\n",
    "    input_tensor = keras.Input(shape=(28, 28, 1))\n",
    "    \n",
    "    # Create models that output intermediate layer activations using explicit input\n",
    "    conv1_output = model.get_layer('conv1')(input_tensor)\n",
    "    conv1_model = keras.Model(inputs=input_tensor, outputs=conv1_output)\n",
    "    \n",
    "    # For conv2, we need to pass through pool1 first\n",
    "    pool1_output = model.get_layer('pool1')(conv1_output)\n",
    "    conv2_output = model.get_layer('conv2')(pool1_output)\n",
    "    conv2_model = keras.Model(inputs=input_tensor, outputs=conv2_output)\n",
    "    \n",
    "    # Get activations\n",
    "    conv1_acts = conv1_model.predict(image_batch, verbose=0)[0]  # Shape: (H, W, num_filters)\n",
    "    conv2_acts = conv2_model.predict(image_batch, verbose=0)[0]  # Shape: (H, W, num_filters)\n",
    "    \n",
    "    # Get filter weights and number of filters\n",
    "    conv1_weights = model.get_layer('conv1').get_weights()[0]  # Shape: (3, 3, 1, num_filters)\n",
    "    conv2_weights = model.get_layer('conv2').get_weights()[0]  # Shape: (3, 3, in_channels, num_filters)\n",
    "    \n",
    "    num_conv1_filters = conv1_weights.shape[3]\n",
    "    num_conv2_filters = conv2_weights.shape[3]\n",
    "    \n",
    "    # Display original image\n",
    "    input_img = image[:, :, 0]\n",
    "    \n",
    "    print(f\"\\nTrue Label: {class_names[label]} | Prediction: {class_names[prediction]}\")\n",
    "    \n",
    "    # Plot Conv1: Filters + Activations\n",
    "    fig, axes = plt.subplots(3, num_conv1_filters, figsize=(num_conv1_filters * 2, 6))\n",
    "    \n",
    "    # Handle case where there's only one filter\n",
    "    if num_conv1_filters == 1:\n",
    "        axes = axes.reshape(3, 1)\n",
    "    \n",
    "    # Row 1: Original image in first cell, rest empty\n",
    "    axes[0, 0].imshow(input_img, cmap='gray')\n",
    "    axes[0, 0].set_title('Input', fontsize=9)\n",
    "    axes[0, 0].axis('off')\n",
    "    \n",
    "    for i in range(1, num_conv1_filters):\n",
    "        axes[0, i].axis('off')\n",
    "    \n",
    "    # Row 2: All filter weights\n",
    "    for i in range(num_conv1_filters):\n",
    "        filter_weights = conv1_weights[:, :, 0, i]\n",
    "        axes[1, i].imshow(filter_weights, cmap='RdBu', vmin=-abs(filter_weights).max(), vmax=abs(filter_weights).max())\n",
    "        axes[1, i].set_title(f'Filter {i}', fontsize=9)\n",
    "        axes[1, i].axis('off')\n",
    "    \n",
    "    # Row 3: All activations\n",
    "    for i in range(num_conv1_filters):\n",
    "        axes[2, i].imshow(conv1_acts[:, :, i], cmap='viridis')\n",
    "        axes[2, i].set_title(f'Act {i}', fontsize=9)\n",
    "        axes[2, i].axis('off')\n",
    "    \n",
    "    plt.suptitle(f'Conv1: {num_conv1_filters} Filters - Weights (middle) → Activations (bottom)', fontsize=12, y=0.98)\n",
    "    plt.tight_layout()\n",
    "    plt.show()\n",
    "    \n",
    "    # Plot Conv2: Show filter weights for first input channel + activations\n",
    "    fig, axes = plt.subplots(2, num_conv2_filters, figsize=(num_conv2_filters * 2, 4))\n",
    "    \n",
    "    # Handle case where there's only one filter\n",
    "    if num_conv2_filters == 1:\n",
    "        axes = axes.reshape(2, 1)\n",
    "    \n",
    "    # Row 1: Show filter weights (first input channel only for simplicity)\n",
    "    for i in range(num_conv2_filters):\n",
    "        filter_weights = conv2_weights[:, :, 0, i]  # Just show first input channel\n",
    "        axes[0, i].imshow(filter_weights, cmap='RdBu', vmin=-abs(filter_weights).max(), vmax=abs(filter_weights).max())\n",
    "        axes[0, i].set_title(f'Filter {i}\\n(ch 0)', fontsize=8)\n",
    "        axes[0, i].axis('off')\n",
    "    \n",
    "    # Row 2: Activations\n",
    "    for i in range(num_conv2_filters):\n",
    "        axes[1, i].imshow(conv2_acts[:, :, i], cmap='viridis')\n",
    "        axes[1, i].set_title(f'Act {i}', fontsize=9)\n",
    "        axes[1, i].axis('off')\n",
    "    \n",
    "    plt.suptitle(f'Conv2: {num_conv2_filters} Filters - Weights (top, 1st input channel) → Activations (bottom)', fontsize=12, y=0.98)\n",
    "    plt.tight_layout()\n",
    "    plt.show()\n",
    "    \n",
    "    # Print some activation statistics\n",
    "    print(\"\\nActivation statistics for Conv1 Filter 0:\")\n",
    "    print(f\"Shape: {conv1_acts[:, :, 0].shape}\")\n",
    "    print(f\"Min: {conv1_acts[:, :, 0].min():.4f}, Max: {conv1_acts[:, :, 0].max():.4f}\")\n",
    "    print(f\"Mean: {conv1_acts[:, :, 0].mean():.4f}, Std: {conv1_acts[:, :, 0].std():.4f}\")\n",
    "\n",
    "# Get a sample image from test set\n",
    "sample_idx = 0  # Change this to see different examples\n",
    "sample_image = x_test[sample_idx]\n",
    "sample_label = y_test[sample_idx]\n",
    "\n",
    "visualize_feature_maps(model, sample_image, sample_label, CLASS_NAMES)"
   ]
  },
  {
   "cell_type": "markdown",
   "metadata": {},
   "source": [
    "Try different sample images to see how filters respond differently:"
   ]
  },
  {
   "cell_type": "code",
   "execution_count": null,
   "metadata": {},
   "outputs": [],
   "source": [
    "# Visualize multiple examples\n",
    "for idx in [0, 10, 100, 500]:  # Different samples\n",
    "    sample_image = x_test[idx]\n",
    "    sample_label = y_test[idx]\n",
    "    visualize_feature_maps(model, sample_image, sample_label, CLASS_NAMES)"
   ]
  },
  {
   "cell_type": "markdown",
   "metadata": {},
   "source": [
    "---\n",
    "# Method 2: Activation Maximization\n",
    "\n",
    "Instead of showing what filters respond to on real images, we can **generate** images that maximally activate specific filters. This helps us understand what pattern the filter is \"looking for.\"\n",
    "\n",
    "We start with random noise and use gradient ascent to modify the input to maximize the activation of a chosen filter."
   ]
  },
  {
   "cell_type": "code",
   "execution_count": null,
   "metadata": {},
   "outputs": [],
   "source": [
    "def activation_maximization(model, layer_name, filter_idx, iterations=100, lr=1.0):\n",
    "    \"\"\"\n",
    "    Generate an input image that maximally activates a specific filter.\n",
    "    \n",
    "    Args:\n",
    "        model: The CNN model\n",
    "        layer_name: Which layer to maximize ('conv1' or 'conv2')\n",
    "        filter_idx: Which filter in that layer to maximize\n",
    "        iterations: Number of optimization steps\n",
    "        lr: Learning rate for gradient ascent\n",
    "    \"\"\"\n",
    "    # Get the filter weights to display\n",
    "    layer = model.get_layer(layer_name)\n",
    "    filter_weights = layer.get_weights()[0]  # Shape: (3, 3, in_channels, num_filters)\n",
    "    \n",
    "    # Create an explicit input tensor and build the model up to target layer\n",
    "    input_tensor = keras.Input(shape=(28, 28, 1))\n",
    "    \n",
    "    # Build layers up to the target layer\n",
    "    x = model.get_layer('conv1')(input_tensor)\n",
    "    if layer_name == 'conv1':\n",
    "        layer_output = x\n",
    "        # For conv1, show the single input channel\n",
    "        target_filter = filter_weights[:, :, 0, filter_idx]\n",
    "    else:\n",
    "        x = model.get_layer('pool1')(x)\n",
    "        x = model.get_layer('conv2')(x)\n",
    "        if layer_name == 'conv2':\n",
    "            layer_output = x\n",
    "            # For conv2, show all input channels\n",
    "            target_filter = filter_weights[:, :, :, filter_idx]\n",
    "        else:\n",
    "            # Continue building if needed for other layers\n",
    "            layer_output = x\n",
    "            target_filter = None\n",
    "    \n",
    "    feature_extractor = keras.Model(inputs=input_tensor, outputs=layer_output)\n",
    "    \n",
    "    # Start with random noise (scaled to match expected input range)\n",
    "    input_img = tf.Variable(tf.random.normal((1, 28, 28, 1)) * 0.1)\n",
    "    \n",
    "    # Track loss over iterations\n",
    "    losses = []\n",
    "    \n",
    "    for i in range(iterations):\n",
    "        with tf.GradientTape() as tape:\n",
    "            # Forward pass\n",
    "            activation = feature_extractor(input_img)\n",
    "            \n",
    "            # Get the activation of the target filter\n",
    "            # Shape: (1, height, width, num_filters)\n",
    "            filter_activation = activation[:, :, :, filter_idx]\n",
    "            \n",
    "            # We want to MAXIMIZE the mean activation\n",
    "            loss = -tf.reduce_mean(filter_activation)\n",
    "        \n",
    "        losses.append(-loss.numpy())  # Store positive value for plotting\n",
    "        \n",
    "        # Get gradients\n",
    "        grads = tape.gradient(loss, input_img)\n",
    "        \n",
    "        # Normalize gradients to prevent explosion\n",
    "        grads = grads / (tf.math.reduce_std(grads) + 1e-8)\n",
    "        \n",
    "        # Gradient ascent step\n",
    "        input_img.assign_add(lr * grads)\n",
    "        \n",
    "        # Clip values to reasonable range (instead of aggressive normalization)\n",
    "        input_img.assign(tf.clip_by_value(input_img, -2, 2))\n",
    "        \n",
    "        if (i + 1) % 20 == 0:\n",
    "            print(f\"Iteration {i+1}/{iterations}, Activation: {losses[-1]:.4f}\")\n",
    "    \n",
    "    # Visualize result\n",
    "    result_img = input_img[0, :, :, 0].numpy()\n",
    "    \n",
    "    # Create figure based on layer type\n",
    "    if layer_name == 'conv1':\n",
    "        # Simple 3-panel layout for conv1\n",
    "        fig, axes = plt.subplots(1, 3, figsize=(15, 4))\n",
    "        \n",
    "        # Show filter weights\n",
    "        axes[0].imshow(target_filter, cmap='RdBu', vmin=-abs(target_filter).max(), vmax=abs(target_filter).max())\n",
    "        axes[0].set_title(f'{layer_name.upper()} Filter {filter_idx}\\nWeights (3x3)')\n",
    "        axes[0].axis('off')\n",
    "        \n",
    "        # Show generated image\n",
    "        axes[1].imshow(result_img, cmap='gray', vmin=-2, vmax=2)\n",
    "        axes[1].set_title(f'Generated Image\\nMaximizes Activation')\n",
    "        axes[1].axis('off')\n",
    "        \n",
    "        # Show optimization progress\n",
    "        axes[2].plot(losses)\n",
    "        axes[2].set_xlabel('Iteration')\n",
    "        axes[2].set_ylabel('Mean Activation')\n",
    "        axes[2].set_title('Optimization Progress')\n",
    "        axes[2].grid(True)\n",
    "        \n",
    "    else:\n",
    "        # For conv2, create a more complex layout with filter grid\n",
    "        num_channels = filter_weights.shape[2]  # Number of input channels\n",
    "        rows = 2\n",
    "        cols = int(np.ceil(num_channels / 2))\n",
    "        \n",
    "        # Create figure with custom layout: filter grid | generated image | progress plot\n",
    "        fig = plt.figure(figsize=(16, 5))\n",
    "        gs = fig.add_gridspec(2, 3, width_ratios=[1.5, 1, 1.5], hspace=0.3, wspace=0.3)\n",
    "        \n",
    "        # Left: Grid of filter weights for all input channels\n",
    "        ax_filters = fig.add_subplot(gs[:, 0])\n",
    "        ax_filters.axis('off')\n",
    "        \n",
    "        # Create subplots for each channel\n",
    "        inner_gs = gs[0:2, 0].subgridspec(rows, cols, hspace=0.2, wspace=0.2)\n",
    "        for ch in range(num_channels):\n",
    "            row = ch // cols\n",
    "            col = ch % cols\n",
    "            ax = fig.add_subplot(inner_gs[row, col])\n",
    "            filter_ch = filter_weights[:, :, ch, filter_idx]\n",
    "            ax.imshow(filter_ch, cmap='RdBu', vmin=-abs(filter_ch).max(), vmax=abs(filter_ch).max())\n",
    "            ax.set_title(f'Ch {ch}', fontsize=9)\n",
    "            ax.axis('off')\n",
    "        \n",
    "        # Add title for filter section\n",
    "        ax_filters.set_title(f'{layer_name.upper()} Filter {filter_idx}\\n({num_channels} input channels)', \n",
    "                            fontsize=11, pad=10)\n",
    "        \n",
    "        # Middle: Generated image\n",
    "        ax_img = fig.add_subplot(gs[:, 1])\n",
    "        ax_img.imshow(result_img, cmap='gray', vmin=-2, vmax=2)\n",
    "        ax_img.set_title('Generated Image\\nMaximizes Activation', fontsize=11)\n",
    "        ax_img.axis('off')\n",
    "        \n",
    "        # Right: Optimization progress\n",
    "        ax_progress = fig.add_subplot(gs[:, 2])\n",
    "        ax_progress.plot(losses)\n",
    "        ax_progress.set_xlabel('Iteration')\n",
    "        ax_progress.set_ylabel('Mean Activation')\n",
    "        ax_progress.set_title('Optimization Progress', fontsize=11)\n",
    "        ax_progress.grid(True)\n",
    "    \n",
    "    plt.tight_layout()\n",
    "    plt.show()\n",
    "    \n",
    "    print(f\"\\nFinal activation: {losses[-1]:.4f}\")\n",
    "    print(f\"Image stats - Min: {result_img.min():.4f}, Max: {result_img.max():.4f}\")\n",
    "    \n",
    "    return result_img\n",
    "\n",
    "# Generate images that maximize different filters\n",
    "print(\"\\nGenerating images for Conv1 filters:\")\n",
    "for filter_idx in range(4):  # Show first 4 filters\n",
    "    print(f\"\\n--- Conv1 Filter {filter_idx} ---\")\n",
    "    activation_maximization(model, 'conv1', filter_idx, iterations=100, lr=1.0)"
   ]
  },
  {
   "cell_type": "code",
   "execution_count": null,
   "metadata": {},
   "outputs": [],
   "source": [
    "# Try Conv2 filters (more abstract patterns)\n",
    "print(\"\\nGenerating images for Conv2 filters:\")\n",
    "for filter_idx in range(4):  # Show first 4 filters\n",
    "    print(f\"\\n--- Conv2 Filter {filter_idx} ---\")\n",
    "    activation_maximization(model, 'conv2', filter_idx, iterations=100, lr=1.0)"
   ]
  },
  {
   "cell_type": "markdown",
   "metadata": {},
   "source": [
    "---\n",
    "# Method 3: Class Activation Maps (Grad-CAM)\n",
    "\n",
    "Grad-CAM shows which parts of the input image are most important for the network's prediction. It works by:\n",
    "1. Computing gradients of the predicted class with respect to feature maps\n",
    "2. Weighting feature maps by these gradients\n",
    "3. Creating a heatmap showing important regions\n",
    "\n",
    "This helps answer: \"What is the network looking at when it makes this prediction?\""
   ]
  },
  {
   "cell_type": "code",
   "execution_count": null,
   "metadata": {},
   "outputs": [],
   "source": [
    "def grad_cam(model, image, target_class=None):\n",
    "    \"\"\"\n",
    "    Generate a Grad-CAM heatmap showing which image regions influence the prediction.\n",
    "    \n",
    "    Args:\n",
    "        model: The CNN model\n",
    "        image: Input image (28, 28, 1)\n",
    "        target_class: Class to generate CAM for (None = predicted class)\n",
    "    \"\"\"\n",
    "    # Prepare image\n",
    "    img_array = np.expand_dims(image, axis=0)\n",
    "    \n",
    "    # Create an explicit input tensor and build model\n",
    "    input_tensor = keras.Input(shape=(28, 28, 1))\n",
    "    \n",
    "    # Build the network manually through all layers\n",
    "    x = model.get_layer('conv1')(input_tensor)\n",
    "    x = model.get_layer('pool1')(x)\n",
    "    conv2_output = model.get_layer('conv2')(x)\n",
    "    x = model.get_layer('pool2')(conv2_output)\n",
    "    \n",
    "    # Flatten layer - get the actual name from the model\n",
    "    flatten_layers = [layer for layer in model.layers if 'flatten' in layer.name.lower()]\n",
    "    if flatten_layers:\n",
    "        x = flatten_layers[0](x)\n",
    "    else:\n",
    "        x = layers.Flatten()(x)\n",
    "    \n",
    "    predictions = model.get_layer('output')(x)\n",
    "    \n",
    "    # Create model that outputs both conv2 and final predictions\n",
    "    grad_model = keras.Model(inputs=input_tensor, outputs=[conv2_output, predictions])\n",
    "    \n",
    "    # Get predictions\n",
    "    with tf.GradientTape() as tape:\n",
    "        conv_outputs, predictions = grad_model(img_array)\n",
    "        \n",
    "        # Get predicted class if not specified\n",
    "        if target_class is None:\n",
    "            target_class = tf.argmax(predictions[0]).numpy()\n",
    "        \n",
    "        # Get the score for the target class\n",
    "        class_channel = predictions[:, target_class]\n",
    "    \n",
    "    # Compute gradients of the class score with respect to conv2 output\n",
    "    grads = tape.gradient(class_channel, conv_outputs)\n",
    "    \n",
    "    # Global average pooling of gradients (importance weights)\n",
    "    pooled_grads = tf.reduce_mean(grads, axis=(0, 1, 2))  # Shape: (8,)\n",
    "    \n",
    "    print(f\"\\nGrad-CAM weights for target class '{CLASS_NAMES[target_class]}':\")\n",
    "    print(f\"Shape: {pooled_grads.shape} (one weight per filter)\")\n",
    "    print(f\"Weights: {pooled_grads.numpy()}\")\n",
    "    print(f\"\\nInterpretation: Positive weights mean that filter's activation increases prediction confidence\")\n",
    "    \n",
    "    # Weighted combination of feature maps\n",
    "    conv_outputs = conv_outputs[0]  # Remove batch dimension\n",
    "    \n",
    "    # Multiply each filter by its weight and sum\n",
    "    cam = tf.reduce_sum(tf.multiply(pooled_grads, conv_outputs), axis=-1)\n",
    "    \n",
    "    # Apply ReLU (only positive influences)\n",
    "    cam = tf.nn.relu(cam)\n",
    "    \n",
    "    # Normalize\n",
    "    cam = cam - tf.reduce_min(cam)\n",
    "    cam = cam / (tf.reduce_max(cam) + 1e-8)\n",
    "    \n",
    "    # Resize to original image size\n",
    "    cam = tf.image.resize(cam[..., tf.newaxis], (28, 28))\n",
    "    cam = cam.numpy()[:, :, 0]\n",
    "    \n",
    "    return cam, target_class\n",
    "\n",
    "\n",
    "def visualize_grad_cam(model, image, label, class_names):\n",
    "    \"\"\"\n",
    "    Visualize Grad-CAM heatmap overlaid on original image.\n",
    "    \"\"\"\n",
    "    cam, predicted_class = grad_cam(model, image)\n",
    "    \n",
    "    # Get original image\n",
    "    orig_img = image[:, :, 0]\n",
    "    \n",
    "    # Create visualization\n",
    "    fig, axes = plt.subplots(1, 3, figsize=(15, 5))\n",
    "    \n",
    "    # Original image\n",
    "    axes[0].imshow(orig_img, cmap='gray')\n",
    "    axes[0].set_title(f'Original Image\\nTrue: {class_names[label]}')\n",
    "    axes[0].axis('off')\n",
    "    \n",
    "    # Heatmap\n",
    "    im = axes[1].imshow(cam, cmap='jet')\n",
    "    axes[1].set_title(f'Grad-CAM Heatmap\\nPredicted: {class_names[predicted_class]}')\n",
    "    axes[1].axis('off')\n",
    "    plt.colorbar(im, ax=axes[1], fraction=0.046)\n",
    "    \n",
    "    # Overlay\n",
    "    axes[2].imshow(orig_img, cmap='gray')\n",
    "    axes[2].imshow(cam, cmap='jet', alpha=0.5)  # Overlay with transparency\n",
    "    axes[2].set_title('Overlay\\n(red = important for prediction)')\n",
    "    axes[2].axis('off')\n",
    "    \n",
    "    plt.tight_layout()\n",
    "    plt.show()\n",
    "    \n",
    "    print(f\"\\nCAM statistics:\")\n",
    "    print(f\"Min: {cam.min():.4f}, Max: {cam.max():.4f}\")\n",
    "    print(f\"Mean: {cam.mean():.4f}, Std: {cam.std():.4f}\")\n",
    "\n",
    "# Visualize Grad-CAM for several examples\n",
    "print(\"\\nGenerating Grad-CAM visualizations:\")\n",
    "for idx in [0, 10, 100, 500]:\n",
    "    sample_image = x_test[idx]\n",
    "    sample_label = y_test[idx]\n",
    "    print(f\"\\n{'='*60}\")\n",
    "    print(f\"Sample {idx}\")\n",
    "    print(f\"{'='*60}\")\n",
    "    visualize_grad_cam(model, sample_image, sample_label, CLASS_NAMES)"
   ]
  },
  {
   "cell_type": "markdown",
   "metadata": {},
   "source": [
    "## Compare Grad-CAM for Different Classes\n",
    "\n",
    "We can also generate Grad-CAM for a specific class (not necessarily the predicted one) to see what the network would look for if trying to classify the image as that class."
   ]
  },
  {
   "cell_type": "code",
   "execution_count": null,
   "metadata": {},
   "outputs": [],
   "source": [
    "def compare_class_cams(model, image, label, class_names, classes_to_compare=None):\n",
    "    \"\"\"\n",
    "    Compare Grad-CAM for different target classes on the same image.\n",
    "    \"\"\"\n",
    "    if classes_to_compare is None:\n",
    "        classes_to_compare = [label, (label + 1) % 10, (label + 2) % 10]\n",
    "    \n",
    "    orig_img = image[:, :, 0]\n",
    "    \n",
    "    fig, axes = plt.subplots(1, len(classes_to_compare) + 1, figsize=(4 * (len(classes_to_compare) + 1), 4))\n",
    "    \n",
    "    # Original image\n",
    "    axes[0].imshow(orig_img, cmap='gray')\n",
    "    axes[0].set_title(f'Original\\nTrue: {class_names[label]}')\n",
    "    axes[0].axis('off')\n",
    "    \n",
    "    # Generate CAM for each class\n",
    "    for i, target_class in enumerate(classes_to_compare):\n",
    "        cam, _ = grad_cam(model, image, target_class=target_class)\n",
    "        \n",
    "        axes[i + 1].imshow(orig_img, cmap='gray')\n",
    "        axes[i + 1].imshow(cam, cmap='jet', alpha=0.5)\n",
    "        axes[i + 1].set_title(f'CAM for\\n\"{class_names[target_class]}\"')\n",
    "        axes[i + 1].axis('off')\n",
    "    \n",
    "    plt.suptitle('Grad-CAM for Different Target Classes\\n(Shows what network looks for to classify as each class)', \n",
    "                 fontsize=12)\n",
    "    plt.tight_layout()\n",
    "    plt.show()\n",
    "\n",
    "# Example: see what features matter for different class predictions\n",
    "sample_image = x_test[0]\n",
    "sample_label = y_test[0]\n",
    "compare_class_cams(model, sample_image, sample_label, CLASS_NAMES)"
   ]
  },
  {
   "cell_type": "markdown",
   "metadata": {},
   "source": [
    "---\n",
    "# Summary and Next Steps\n",
    "\n",
    "## What We've Learned\n",
    "\n",
    "1. **Filter Visualizations**: Convolutional filters learn edge detectors, texture patterns, and shape components\n",
    "   - Early layers (Conv1) detect simple patterns (edges, corners)\n",
    "   - Later layers (Conv2) detect more complex combinations\n",
    "\n",
    "2. **Activation Maximization**: We can synthesize images that maximally activate specific filters\n",
    "   - Shows what each filter is \"looking for\"\n",
    "   - Often reveals interesting patterns that aren't obvious from weights alone\n",
    "\n",
    "3. **Grad-CAM**: Highlights which image regions drive predictions\n",
    "   - Shows the model is (hopefully) looking at relevant features\n",
    "   - Can help debug incorrect predictions\n",
    "   - Different target classes focus on different regions\n",
    "\n",
    "## Experiments to Try\n",
    "\n",
    "1. **Switch datasets**: Change `DATASET = 'fashion_mnist'` and re-run to see how filters differ\n",
    "2. **Modify architecture**: Add more filters or layers and see how complexity affects learned features\n",
    "3. **Tune activation maximization**: Adjust learning rate and iterations for clearer generated images\n",
    "4. **Find failure cases**: Use Grad-CAM to understand misclassifications\n",
    "\n",
    "## Questions to Consider\n",
    "\n",
    "- Do Conv1 filters look similar across MNIST and Fashion-MNIST?\n",
    "- What happens to Grad-CAM when the model makes a wrong prediction?\n",
    "- Can you identify which filters are most important for specific digit/class recognition?\n",
    "- How do activation maximization results differ between Conv1 and Conv2 filters?"
   ]
  }
 ],
 "metadata": {
  "kernelspec": {
   "display_name": ".venv",
   "language": "python",
   "name": "python3"
  },
  "language_info": {
   "codemirror_mode": {
    "name": "ipython",
    "version": 3
   },
   "file_extension": ".py",
   "mimetype": "text/x-python",
   "name": "python",
   "nbconvert_exporter": "python",
   "pygments_lexer": "ipython3",
   "version": "3.12.11"
  }
 },
 "nbformat": 4,
 "nbformat_minor": 4
}
