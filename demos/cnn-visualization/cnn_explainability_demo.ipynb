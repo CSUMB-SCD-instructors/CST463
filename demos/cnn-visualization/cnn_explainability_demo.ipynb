{
 "cells": [
  {
   "cell_type": "markdown",
   "metadata": {},
   "source": [
    "# CNN Explainability Demo\n",
    "\n",
    "This notebook demonstrates three key techniques for understanding what Convolutional Neural Networks learn:\n",
    "\n",
    "1. **Filter Visualizations**: See what patterns individual filters detect\n",
    "2. **Activation Maximization**: Generate images that maximally activate specific filters\n",
    "3. **Class Activation Maps (Grad-CAM)**: Visualize which input regions drive predictions\n",
    "\n",
    "We'll use a simple 2-layer CNN trained on either MNIST or Fashion-MNIST to keep things interpretable."
   ]
  },
  {
   "cell_type": "markdown",
   "metadata": {},
   "source": [
    "## Configuration\n",
    "\n",
    "Choose your dataset and training parameters here."
   ]
  },
  {
   "cell_type": "code",
   "metadata": {
    "ExecuteTime": {
     "end_time": "2025-10-29T13:53:45.466594Z",
     "start_time": "2025-10-29T13:53:45.463834Z"
    }
   },
   "source": [
    "# Dataset selection - change this to 'fashion_mnist' to switch datasets\n",
    "DATASET = 'mnist'  # Options: 'mnist' or 'fashion_mnist'\n",
    "\n",
    "# Training parameters\n",
    "TRAIN_NEW_MODEL = False  # Set to True to train from scratch, False to load pre-trained\n",
    "EPOCHS = 5\n",
    "BATCH_SIZE = 128\n",
    "LEARNING_RATE = 0.001\n",
    "\n",
    "# Model will be saved/loaded from:\n",
    "MODEL_PATH = f'saved_models/{DATASET}_simple_cnn.h5'\n",
    "\n",
    "print(f\"Configuration: {DATASET.upper()} dataset\")\n",
    "print(f\"Model path: {MODEL_PATH}\")"
   ],
   "outputs": [
    {
     "name": "stdout",
     "output_type": "stream",
     "text": [
      "Configuration: MNIST dataset\n",
      "Model path: saved_models/mnist_simple_cnn.h5\n"
     ]
    }
   ],
   "execution_count": 1
  },
  {
   "cell_type": "markdown",
   "metadata": {},
   "source": [
    "## Imports and Setup"
   ]
  },
  {
   "cell_type": "code",
   "metadata": {
    "ExecuteTime": {
     "end_time": "2025-10-29T13:53:57.842941Z",
     "start_time": "2025-10-29T13:53:45.508088Z"
    }
   },
   "source": [
    "import tensorflow as tf\n",
    "from tensorflow import keras\n",
    "from tensorflow.keras import layers, models\n",
    "from tensorflow.keras.datasets import mnist, fashion_mnist\n",
    "import numpy as np\n",
    "import matplotlib.pyplot as plt\n",
    "from matplotlib import cm\n",
    "import os\n",
    "\n",
    "# Set random seeds for reproducibility\n",
    "np.random.seed(42)\n",
    "tf.random.set_seed(42)\n",
    "\n",
    "# Check TensorFlow version and GPU availability\n",
    "print(f\"TensorFlow version: {tf.__version__}\")\n",
    "print(f\"GPU available: {len(tf.config.list_physical_devices('GPU')) > 0}\")\n",
    "\n",
    "# Class labels for visualization\n",
    "if DATASET == 'mnist':\n",
    "    CLASS_NAMES = [str(i) for i in range(10)]\n",
    "else:  # fashion_mnist\n",
    "    CLASS_NAMES = ['T-shirt/top', 'Trouser', 'Pullover', 'Dress', 'Coat',\n",
    "                   'Sandal', 'Shirt', 'Sneaker', 'Bag', 'Ankle boot']"
   ],
   "outputs": [
    {
     "name": "stdout",
     "output_type": "stream",
     "text": [
      "TensorFlow version: 2.20.0\n",
      "GPU available: False\n"
     ]
    }
   ],
   "execution_count": 2
  },
  {
   "cell_type": "markdown",
   "metadata": {},
   "source": [
    "## Load Dataset"
   ]
  },
  {
   "cell_type": "code",
   "metadata": {
    "ExecuteTime": {
     "end_time": "2025-10-29T13:54:01.406287Z",
     "start_time": "2025-10-29T13:54:01.143790Z"
    }
   },
   "source": [
    "# Load dataset\n",
    "if DATASET == 'mnist':\n",
    "    (x_train, y_train), (x_test, y_test) = mnist.load_data()\n",
    "else:  # fashion_mnist\n",
    "    (x_train, y_train), (x_test, y_test) = fashion_mnist.load_data()\n",
    "\n",
    "# Preprocess data\n",
    "x_train = x_train.reshape(-1, 28, 28, 1).astype('float32') / 255.0\n",
    "x_test = x_test.reshape(-1, 28, 28, 1).astype('float32') / 255.0\n",
    "\n",
    "# Normalize to [-1, 1] range\n",
    "x_train = (x_train - 0.5) * 2\n",
    "x_test = (x_test - 0.5) * 2\n",
    "\n",
    "print(f\"Loaded {DATASET}: {len(x_train)} training samples, {len(x_test)} test samples\")\n",
    "print(f\"Image shape: {x_train.shape[1:]}\")\n",
    "print(f\"Value range: [{x_train.min():.2f}, {x_train.max():.2f}]\")"
   ],
   "outputs": [
    {
     "name": "stdout",
     "output_type": "stream",
     "text": [
      "Loaded mnist: 60000 training samples, 10000 test samples\n",
      "Image shape: (28, 28, 1)\n",
      "Value range: [-1.00, 1.00]\n"
     ]
    }
   ],
   "execution_count": 3
  },
  {
   "cell_type": "markdown",
   "metadata": {},
   "source": [
    "## Define Simple CNN Architecture\n",
    "\n",
    "We use a deliberately simple architecture:\n",
    "- **Conv Layer 1**: 8 filters, 3x3 kernel\n",
    "- **Conv Layer 2**: 8 filters, 3x3 kernel\n",
    "- **Fully Connected**: Output layer\n",
    "\n",
    "This small architecture makes it easier to visualize and understand what each filter learns."
   ]
  },
  {
   "cell_type": "code",
   "metadata": {
    "ExecuteTime": {
     "end_time": "2025-10-29T13:54:01.443124Z",
     "start_time": "2025-10-29T13:54:01.411121Z"
    }
   },
   "source": [
    "def create_simple_cnn():\n",
    "    \"\"\"Create a simple 2-layer CNN for visualization.\"\"\"\n",
    "    model = models.Sequential([\n",
    "        # First convolutional layer: 8 filters, 3x3 kernel\n",
    "        layers.Conv2D(8, (3, 3), activation='relu', padding='same', \n",
    "                     input_shape=(28, 28, 1), name='conv1'),\n",
    "        layers.MaxPooling2D((2, 2), name='pool1'),  # 28x28 -> 14x14\n",
    "        \n",
    "        # Second convolutional layer: 8 filters, 3x3 kernel\n",
    "        layers.Conv2D(8, (3, 3), activation='relu', padding='same', name='conv2'),\n",
    "        layers.MaxPooling2D((2, 2), name='pool2'),  # 14x14 -> 7x7\n",
    "        \n",
    "        # Fully connected layer\n",
    "        layers.Flatten(),\n",
    "        layers.Dense(10, name='output')\n",
    "    ])\n",
    "    \n",
    "    return model\n",
    "\n",
    "# Create model\n",
    "model = create_simple_cnn()\n",
    "model.summary()\n",
    "\n",
    "# Compile model\n",
    "model.compile(\n",
    "    optimizer=keras.optimizers.Adam(learning_rate=LEARNING_RATE),\n",
    "    loss=keras.losses.SparseCategoricalCrossentropy(from_logits=True),\n",
    "    metrics=['accuracy']\n",
    ")"
   ],
   "outputs": [
    {
     "name": "stderr",
     "output_type": "stream",
     "text": [
      "/Users/ssogden/repos/classes/CST463-golden/.venv/lib/python3.12/site-packages/keras/src/layers/convolutional/base_conv.py:113: UserWarning: Do not pass an `input_shape`/`input_dim` argument to a layer. When using Sequential models, prefer using an `Input(shape)` object as the first layer in the model instead.\n",
      "  super().__init__(activity_regularizer=activity_regularizer, **kwargs)\n"
     ]
    },
    {
     "data": {
      "text/plain": [
       "\u001B[1mModel: \"sequential\"\u001B[0m\n"
      ],
      "text/html": [
       "<pre style=\"white-space:pre;overflow-x:auto;line-height:normal;font-family:Menlo,'DejaVu Sans Mono',consolas,'Courier New',monospace\"><span style=\"font-weight: bold\">Model: \"sequential\"</span>\n",
       "</pre>\n"
      ]
     },
     "metadata": {},
     "output_type": "display_data",
     "jetTransient": {
      "display_id": null
     }
    },
    {
     "data": {
      "text/plain": [
       "┏━━━━━━━━━━━━━━━━━━━━━━━━━━━━━━━━━┳━━━━━━━━━━━━━━━━━━━━━━━━┳━━━━━━━━━━━━━━━┓\n",
       "┃\u001B[1m \u001B[0m\u001B[1mLayer (type)                   \u001B[0m\u001B[1m \u001B[0m┃\u001B[1m \u001B[0m\u001B[1mOutput Shape          \u001B[0m\u001B[1m \u001B[0m┃\u001B[1m \u001B[0m\u001B[1m      Param #\u001B[0m\u001B[1m \u001B[0m┃\n",
       "┡━━━━━━━━━━━━━━━━━━━━━━━━━━━━━━━━━╇━━━━━━━━━━━━━━━━━━━━━━━━╇━━━━━━━━━━━━━━━┩\n",
       "│ conv1 (\u001B[38;5;33mConv2D\u001B[0m)                  │ (\u001B[38;5;45mNone\u001B[0m, \u001B[38;5;34m28\u001B[0m, \u001B[38;5;34m28\u001B[0m, \u001B[38;5;34m8\u001B[0m)      │            \u001B[38;5;34m80\u001B[0m │\n",
       "├─────────────────────────────────┼────────────────────────┼───────────────┤\n",
       "│ pool1 (\u001B[38;5;33mMaxPooling2D\u001B[0m)            │ (\u001B[38;5;45mNone\u001B[0m, \u001B[38;5;34m14\u001B[0m, \u001B[38;5;34m14\u001B[0m, \u001B[38;5;34m8\u001B[0m)      │             \u001B[38;5;34m0\u001B[0m │\n",
       "├─────────────────────────────────┼────────────────────────┼───────────────┤\n",
       "│ conv2 (\u001B[38;5;33mConv2D\u001B[0m)                  │ (\u001B[38;5;45mNone\u001B[0m, \u001B[38;5;34m14\u001B[0m, \u001B[38;5;34m14\u001B[0m, \u001B[38;5;34m8\u001B[0m)      │           \u001B[38;5;34m584\u001B[0m │\n",
       "├─────────────────────────────────┼────────────────────────┼───────────────┤\n",
       "│ pool2 (\u001B[38;5;33mMaxPooling2D\u001B[0m)            │ (\u001B[38;5;45mNone\u001B[0m, \u001B[38;5;34m7\u001B[0m, \u001B[38;5;34m7\u001B[0m, \u001B[38;5;34m8\u001B[0m)        │             \u001B[38;5;34m0\u001B[0m │\n",
       "├─────────────────────────────────┼────────────────────────┼───────────────┤\n",
       "│ flatten (\u001B[38;5;33mFlatten\u001B[0m)               │ (\u001B[38;5;45mNone\u001B[0m, \u001B[38;5;34m392\u001B[0m)            │             \u001B[38;5;34m0\u001B[0m │\n",
       "├─────────────────────────────────┼────────────────────────┼───────────────┤\n",
       "│ output (\u001B[38;5;33mDense\u001B[0m)                  │ (\u001B[38;5;45mNone\u001B[0m, \u001B[38;5;34m10\u001B[0m)             │         \u001B[38;5;34m3,930\u001B[0m │\n",
       "└─────────────────────────────────┴────────────────────────┴───────────────┘\n"
      ],
      "text/html": [
       "<pre style=\"white-space:pre;overflow-x:auto;line-height:normal;font-family:Menlo,'DejaVu Sans Mono',consolas,'Courier New',monospace\">┏━━━━━━━━━━━━━━━━━━━━━━━━━━━━━━━━━┳━━━━━━━━━━━━━━━━━━━━━━━━┳━━━━━━━━━━━━━━━┓\n",
       "┃<span style=\"font-weight: bold\"> Layer (type)                    </span>┃<span style=\"font-weight: bold\"> Output Shape           </span>┃<span style=\"font-weight: bold\">       Param # </span>┃\n",
       "┡━━━━━━━━━━━━━━━━━━━━━━━━━━━━━━━━━╇━━━━━━━━━━━━━━━━━━━━━━━━╇━━━━━━━━━━━━━━━┩\n",
       "│ conv1 (<span style=\"color: #0087ff; text-decoration-color: #0087ff\">Conv2D</span>)                  │ (<span style=\"color: #00d7ff; text-decoration-color: #00d7ff\">None</span>, <span style=\"color: #00af00; text-decoration-color: #00af00\">28</span>, <span style=\"color: #00af00; text-decoration-color: #00af00\">28</span>, <span style=\"color: #00af00; text-decoration-color: #00af00\">8</span>)      │            <span style=\"color: #00af00; text-decoration-color: #00af00\">80</span> │\n",
       "├─────────────────────────────────┼────────────────────────┼───────────────┤\n",
       "│ pool1 (<span style=\"color: #0087ff; text-decoration-color: #0087ff\">MaxPooling2D</span>)            │ (<span style=\"color: #00d7ff; text-decoration-color: #00d7ff\">None</span>, <span style=\"color: #00af00; text-decoration-color: #00af00\">14</span>, <span style=\"color: #00af00; text-decoration-color: #00af00\">14</span>, <span style=\"color: #00af00; text-decoration-color: #00af00\">8</span>)      │             <span style=\"color: #00af00; text-decoration-color: #00af00\">0</span> │\n",
       "├─────────────────────────────────┼────────────────────────┼───────────────┤\n",
       "│ conv2 (<span style=\"color: #0087ff; text-decoration-color: #0087ff\">Conv2D</span>)                  │ (<span style=\"color: #00d7ff; text-decoration-color: #00d7ff\">None</span>, <span style=\"color: #00af00; text-decoration-color: #00af00\">14</span>, <span style=\"color: #00af00; text-decoration-color: #00af00\">14</span>, <span style=\"color: #00af00; text-decoration-color: #00af00\">8</span>)      │           <span style=\"color: #00af00; text-decoration-color: #00af00\">584</span> │\n",
       "├─────────────────────────────────┼────────────────────────┼───────────────┤\n",
       "│ pool2 (<span style=\"color: #0087ff; text-decoration-color: #0087ff\">MaxPooling2D</span>)            │ (<span style=\"color: #00d7ff; text-decoration-color: #00d7ff\">None</span>, <span style=\"color: #00af00; text-decoration-color: #00af00\">7</span>, <span style=\"color: #00af00; text-decoration-color: #00af00\">7</span>, <span style=\"color: #00af00; text-decoration-color: #00af00\">8</span>)        │             <span style=\"color: #00af00; text-decoration-color: #00af00\">0</span> │\n",
       "├─────────────────────────────────┼────────────────────────┼───────────────┤\n",
       "│ flatten (<span style=\"color: #0087ff; text-decoration-color: #0087ff\">Flatten</span>)               │ (<span style=\"color: #00d7ff; text-decoration-color: #00d7ff\">None</span>, <span style=\"color: #00af00; text-decoration-color: #00af00\">392</span>)            │             <span style=\"color: #00af00; text-decoration-color: #00af00\">0</span> │\n",
       "├─────────────────────────────────┼────────────────────────┼───────────────┤\n",
       "│ output (<span style=\"color: #0087ff; text-decoration-color: #0087ff\">Dense</span>)                  │ (<span style=\"color: #00d7ff; text-decoration-color: #00d7ff\">None</span>, <span style=\"color: #00af00; text-decoration-color: #00af00\">10</span>)             │         <span style=\"color: #00af00; text-decoration-color: #00af00\">3,930</span> │\n",
       "└─────────────────────────────────┴────────────────────────┴───────────────┘\n",
       "</pre>\n"
      ]
     },
     "metadata": {},
     "output_type": "display_data",
     "jetTransient": {
      "display_id": null
     }
    },
    {
     "data": {
      "text/plain": [
       "\u001B[1m Total params: \u001B[0m\u001B[38;5;34m4,594\u001B[0m (17.95 KB)\n"
      ],
      "text/html": [
       "<pre style=\"white-space:pre;overflow-x:auto;line-height:normal;font-family:Menlo,'DejaVu Sans Mono',consolas,'Courier New',monospace\"><span style=\"font-weight: bold\"> Total params: </span><span style=\"color: #00af00; text-decoration-color: #00af00\">4,594</span> (17.95 KB)\n",
       "</pre>\n"
      ]
     },
     "metadata": {},
     "output_type": "display_data",
     "jetTransient": {
      "display_id": null
     }
    },
    {
     "data": {
      "text/plain": [
       "\u001B[1m Trainable params: \u001B[0m\u001B[38;5;34m4,594\u001B[0m (17.95 KB)\n"
      ],
      "text/html": [
       "<pre style=\"white-space:pre;overflow-x:auto;line-height:normal;font-family:Menlo,'DejaVu Sans Mono',consolas,'Courier New',monospace\"><span style=\"font-weight: bold\"> Trainable params: </span><span style=\"color: #00af00; text-decoration-color: #00af00\">4,594</span> (17.95 KB)\n",
       "</pre>\n"
      ]
     },
     "metadata": {},
     "output_type": "display_data",
     "jetTransient": {
      "display_id": null
     }
    },
    {
     "data": {
      "text/plain": [
       "\u001B[1m Non-trainable params: \u001B[0m\u001B[38;5;34m0\u001B[0m (0.00 B)\n"
      ],
      "text/html": [
       "<pre style=\"white-space:pre;overflow-x:auto;line-height:normal;font-family:Menlo,'DejaVu Sans Mono',consolas,'Courier New',monospace\"><span style=\"font-weight: bold\"> Non-trainable params: </span><span style=\"color: #00af00; text-decoration-color: #00af00\">0</span> (0.00 B)\n",
       "</pre>\n"
      ]
     },
     "metadata": {},
     "output_type": "display_data",
     "jetTransient": {
      "display_id": null
     }
    }
   ],
   "execution_count": 4
  },
  {
   "cell_type": "markdown",
   "metadata": {},
   "source": [
    "## Training (or Load Pre-trained Model)"
   ]
  },
  {
   "cell_type": "code",
   "metadata": {
    "ExecuteTime": {
     "end_time": "2025-10-29T13:54:01.476658Z",
     "start_time": "2025-10-29T13:54:01.473483Z"
    }
   },
   "source": [
    "# Train or load model\n",
    "if TRAIN_NEW_MODEL:\n",
    "    print(\"Training new model...\")\n",
    "    \n",
    "    history = model.fit(\n",
    "        x_train, y_train,\n",
    "        batch_size=BATCH_SIZE,\n",
    "        epochs=EPOCHS,\n",
    "        validation_data=(x_test, y_test),\n",
    "        verbose=1\n",
    "    )\n",
    "    \n",
    "    # Evaluate final accuracy\n",
    "    test_loss, test_acc = model.evaluate(x_test, y_test, verbose=0)\n",
    "    print(f\"\\nFinal test accuracy: {test_acc*100:.2f}%\")\n",
    "    \n",
    "    # Save the trained model\n",
    "    os.makedirs('saved_models', exist_ok=True)\n",
    "    model.save(MODEL_PATH)\n",
    "    print(f\"Model saved to {MODEL_PATH}\")\n",
    "    \n",
    "else:\n",
    "    if os.path.exists(MODEL_PATH):\n",
    "        print(f\"Loading pre-trained model from {MODEL_PATH}\")\n",
    "        model = keras.models.load_model(MODEL_PATH)\n",
    "        \n",
    "        # Evaluate to show performance\n",
    "        test_loss, test_acc = model.evaluate(x_test, y_test, verbose=0)\n",
    "        print(f\"Model loaded successfully!\")\n",
    "        print(f\"Test accuracy: {test_acc*100:.2f}%\")\n",
    "    else:\n",
    "        print(f\"No pre-trained model found at {MODEL_PATH}\")\n",
    "        print(\"Set TRAIN_NEW_MODEL = True to train a new model\")"
   ],
   "outputs": [
    {
     "name": "stdout",
     "output_type": "stream",
     "text": [
      "No pre-trained model found at saved_models/mnist_simple_cnn.h5\n",
      "Set TRAIN_NEW_MODEL = True to train a new model\n"
     ]
    }
   ],
   "execution_count": 5
  },
  {
   "cell_type": "markdown",
   "metadata": {},
   "source": [
    "---\n",
    "# Method 1: Filter Visualizations\n",
    "\n",
    "We'll visualize what patterns the convolutional filters learn in two ways:\n",
    "1. **Filter weights**: The raw learned kernels\n",
    "2. **Feature maps**: What the filters activate on when shown real images"
   ]
  },
  {
   "cell_type": "markdown",
   "metadata": {},
   "source": [
    "## 1.1: Visualize Filter Weights (Raw Values + Heatmaps)"
   ]
  },
  {
   "cell_type": "code",
   "metadata": {
    "ExecuteTime": {
     "end_time": "2025-10-29T13:54:02.042284Z",
     "start_time": "2025-10-29T13:54:01.496570Z"
    }
   },
   "source": [
    "def visualize_conv_filters(model, layer_name):\n",
    "    \"\"\"\n",
    "    Visualize the learned filters of a convolutional layer.\n",
    "    Shows both raw float values and heatmap visualizations.\n",
    "    \"\"\"\n",
    "    # Get the layer\n",
    "    layer = model.get_layer(layer_name)\n",
    "    \n",
    "    # Get filter weights: shape is (height, width, in_channels, out_channels)\n",
    "    weights = layer.get_weights()[0]  # [0] is weights, [1] is biases\n",
    "    num_filters = weights.shape[3]\n",
    "    in_channels = weights.shape[2]\n",
    "    \n",
    "    print(f\"\\n{'='*60}\")\n",
    "    print(f\"{layer_name.upper()} - Filter Weights\")\n",
    "    print(f\"{'='*60}\")\n",
    "    print(f\"Shape: {weights.shape} (height, width, in_channels, filters)\\n\")\n",
    "    \n",
    "    # Print raw values for first filter as example\n",
    "    print(f\"Raw weight values for Filter 0, Channel 0:\")\n",
    "    print(weights[:, :, 0, 0])\n",
    "    print(f\"\\nMin: {weights[:, :, 0, 0].min():.4f}, Max: {weights[:, :, 0, 0].max():.4f}\\n\")\n",
    "    \n",
    "    # Visualize all filters\n",
    "    fig, axes = plt.subplots(in_channels, num_filters, figsize=(num_filters * 1.5, in_channels * 1.5))\n",
    "    if in_channels == 1:\n",
    "        axes = axes.reshape(1, -1)\n",
    "    \n",
    "    for i in range(in_channels):\n",
    "        for j in range(num_filters):\n",
    "            ax = axes[i, j] if in_channels > 1 else axes[0, j]\n",
    "            \n",
    "            # Get filter weights for this channel and filter\n",
    "            w = weights[:, :, i, j]\n",
    "            \n",
    "            # Normalize for visualization\n",
    "            im = ax.imshow(w, cmap='RdBu', vmin=-abs(w).max(), vmax=abs(w).max())\n",
    "            \n",
    "            if i == 0:\n",
    "                ax.set_title(f'Filter {j}', fontsize=10)\n",
    "            if j == 0:\n",
    "                ax.set_ylabel(f'In Ch {i}', fontsize=10)\n",
    "            ax.axis('off')\n",
    "    \n",
    "    plt.suptitle(f'{layer_name.upper()} - Learned Filters (red=positive, blue=negative)', fontsize=12)\n",
    "    plt.tight_layout()\n",
    "    plt.show()\n",
    "\n",
    "# Visualize both convolutional layers\n",
    "visualize_conv_filters(model, 'conv1')\n",
    "visualize_conv_filters(model, 'conv2')"
   ],
   "outputs": [
    {
     "name": "stdout",
     "output_type": "stream",
     "text": [
      "\n",
      "============================================================\n",
      "CONV1 - Filter Weights\n",
      "============================================================\n",
      "Shape: (3, 3, 1, 8) (height, width, in_channels, filters)\n",
      "\n",
      "Raw weight values for Filter 0, Channel 0:\n",
      "[[ 0.1867908   0.22268608  0.00485638]\n",
      " [-0.01390657 -0.24409306 -0.01571438]\n",
      " [ 0.2610929   0.03707036 -0.22625725]]\n",
      "\n",
      "Min: -0.2441, Max: 0.2611\n",
      "\n"
     ]
    },
    {
     "data": {
      "text/plain": [
       "<Figure size 1200x150 with 8 Axes>"
      ],
      "image/png": "[encoded data removed]"
     },
     "metadata": {},
     "output_type": "display_data",
     "jetTransient": {
      "display_id": null
     }
    },
    {
     "name": "stdout",
     "output_type": "stream",
     "text": [
      "\n",
      "============================================================\n",
      "CONV2 - Filter Weights\n",
      "============================================================\n",
      "Shape: (3, 3, 8, 8) (height, width, in_channels, filters)\n",
      "\n",
      "Raw weight values for Filter 0, Channel 0:\n",
      "[[ 0.02112362  0.08767417  0.142784  ]\n",
      " [-0.07597622 -0.03746541 -0.16588247]\n",
      " [-0.14525884 -0.20131359 -0.04496397]]\n",
      "\n",
      "Min: -0.2013, Max: 0.1428\n",
      "\n"
     ]
    },
    {
     "data": {
      "text/plain": [
       "<Figure size 1200x1200 with 64 Axes>"
      ],
      "image/png": "[encoded data removed]"
     },
     "metadata": {},
     "output_type": "display_data",
     "jetTransient": {
      "display_id": null
     }
    }
   ],
   "execution_count": 6
  },
  {
   "cell_type": "markdown",
   "metadata": {},
   "source": [
    "## 1.2: Visualize Feature Maps (Filter Activations on Real Images)"
   ]
  },
  {
   "cell_type": "code",
   "metadata": {
    "ExecuteTime": {
     "end_time": "2025-10-29T13:54:02.136105Z",
     "start_time": "2025-10-29T13:54:02.046469Z"
    }
   },
   "source": [
    "def visualize_feature_maps(model, image, label, class_names):\n",
    "    \"\"\"\n",
    "    Visualize what each filter \"sees\" when processing a real image.\n",
    "    \"\"\"\n",
    "    # Create models that output intermediate layer activations\n",
    "    conv1_model = keras.Model(inputs=model.input, outputs=model.get_layer('conv1').output)\n",
    "    conv2_model = keras.Model(inputs=model.input, outputs=model.get_layer('conv2').output)\n",
    "    \n",
    "    # Get predictions\n",
    "    image_batch = np.expand_dims(image, axis=0)  # Add batch dimension\n",
    "    predictions = model.predict(image_batch, verbose=0)\n",
    "    prediction = np.argmax(predictions[0])\n",
    "    \n",
    "    # Get activations\n",
    "    conv1_acts = conv1_model.predict(image_batch, verbose=0)[0]  # Shape: (28, 28, 8)\n",
    "    conv2_acts = conv2_model.predict(image_batch, verbose=0)[0]  # Shape: (14, 14, 8)\n",
    "    \n",
    "    # Display original image\n",
    "    input_img = image[:, :, 0]\n",
    "    \n",
    "    print(f\"\\nTrue Label: {class_names[label]} | Prediction: {class_names[prediction]}\")\n",
    "    \n",
    "    # Plot Conv1 activations\n",
    "    fig, axes = plt.subplots(2, 5, figsize=(15, 6))\n",
    "    \n",
    "    # Original image\n",
    "    axes[0, 0].imshow(input_img, cmap='gray')\n",
    "    axes[0, 0].set_title('Original Image')\n",
    "    axes[0, 0].axis('off')\n",
    "    \n",
    "    # Conv1 feature maps\n",
    "    for i in range(8):\n",
    "        row = (i + 1) // 5\n",
    "        col = (i + 1) % 5\n",
    "        axes[row, col].imshow(conv1_acts[:, :, i], cmap='viridis')\n",
    "        axes[row, col].set_title(f'Conv1 Filter {i}')\n",
    "        axes[row, col].axis('off')\n",
    "    \n",
    "    # Hide unused subplot\n",
    "    axes[1, 4].axis('off')\n",
    "    \n",
    "    plt.suptitle('Conv Layer 1 - Feature Maps (what each filter responds to)', fontsize=12)\n",
    "    plt.tight_layout()\n",
    "    plt.show()\n",
    "    \n",
    "    # Plot Conv2 activations\n",
    "    fig, axes = plt.subplots(2, 4, figsize=(12, 6))\n",
    "    for i in range(8):\n",
    "        row = i // 4\n",
    "        col = i % 4\n",
    "        axes[row, col].imshow(conv2_acts[:, :, i], cmap='viridis')\n",
    "        axes[row, col].set_title(f'Conv2 Filter {i}')\n",
    "        axes[row, col].axis('off')\n",
    "    \n",
    "    plt.suptitle('Conv Layer 2 - Feature Maps (higher-level features)', fontsize=12)\n",
    "    plt.tight_layout()\n",
    "    plt.show()\n",
    "    \n",
    "    # Print some activation statistics\n",
    "    print(\"\\nActivation statistics for Conv1 Filter 0:\")\n",
    "    print(f\"Shape: {conv1_acts[:, :, 0].shape}\")\n",
    "    print(f\"Min: {conv1_acts[:, :, 0].min():.4f}, Max: {conv1_acts[:, :, 0].max():.4f}\")\n",
    "    print(f\"Mean: {conv1_acts[:, :, 0].mean():.4f}, Std: {conv1_acts[:, :, 0].std():.4f}\")\n",
    "\n",
    "# Get a sample image from test set\n",
    "sample_idx = 0  # Change this to see different examples\n",
    "sample_image = x_test[sample_idx]\n",
    "sample_label = y_test[sample_idx]\n",
    "\n",
    "visualize_feature_maps(model, sample_image, sample_label, CLASS_NAMES)"
   ],
   "outputs": [
    {
     "ename": "AttributeError",
     "evalue": "The layer sequential has never been called and thus has no defined input.",
     "output_type": "error",
     "traceback": [
      "\u001B[31m---------------------------------------------------------------------------\u001B[39m",
      "\u001B[31mAttributeError\u001B[39m                            Traceback (most recent call last)",
      "\u001B[36mCell\u001B[39m\u001B[36m \u001B[39m\u001B[32mIn[7]\u001B[39m\u001B[32m, line 70\u001B[39m\n\u001B[32m     67\u001B[39m sample_image = x_test[sample_idx]\n\u001B[32m     68\u001B[39m sample_label = y_test[sample_idx]\n\u001B[32m---> \u001B[39m\u001B[32m70\u001B[39m \u001B[43mvisualize_feature_maps\u001B[49m\u001B[43m(\u001B[49m\u001B[43mmodel\u001B[49m\u001B[43m,\u001B[49m\u001B[43m \u001B[49m\u001B[43msample_image\u001B[49m\u001B[43m,\u001B[49m\u001B[43m \u001B[49m\u001B[43msample_label\u001B[49m\u001B[43m,\u001B[49m\u001B[43m \u001B[49m\u001B[43mCLASS_NAMES\u001B[49m\u001B[43m)\u001B[49m\n",
      "\u001B[36mCell\u001B[39m\u001B[36m \u001B[39m\u001B[32mIn[7]\u001B[39m\u001B[32m, line 6\u001B[39m, in \u001B[36mvisualize_feature_maps\u001B[39m\u001B[34m(model, image, label, class_names)\u001B[39m\n\u001B[32m      2\u001B[39m \u001B[38;5;250m\u001B[39m\u001B[33;03m\"\"\"\u001B[39;00m\n\u001B[32m      3\u001B[39m \u001B[33;03mVisualize what each filter \"sees\" when processing a real image.\u001B[39;00m\n\u001B[32m      4\u001B[39m \u001B[33;03m\"\"\"\u001B[39;00m\n\u001B[32m      5\u001B[39m \u001B[38;5;66;03m# Create models that output intermediate layer activations\u001B[39;00m\n\u001B[32m----> \u001B[39m\u001B[32m6\u001B[39m conv1_model = keras.Model(inputs=\u001B[43mmodel\u001B[49m\u001B[43m.\u001B[49m\u001B[43minput\u001B[49m, outputs=model.get_layer(\u001B[33m'\u001B[39m\u001B[33mconv1\u001B[39m\u001B[33m'\u001B[39m).output)\n\u001B[32m      7\u001B[39m conv2_model = keras.Model(inputs=model.input, outputs=model.get_layer(\u001B[33m'\u001B[39m\u001B[33mconv2\u001B[39m\u001B[33m'\u001B[39m).output)\n\u001B[32m      9\u001B[39m \u001B[38;5;66;03m# Get predictions\u001B[39;00m\n",
      "\u001B[36mFile \u001B[39m\u001B[32m~/repos/classes/CST463-golden/.venv/lib/python3.12/site-packages/keras/src/ops/operation.py:275\u001B[39m, in \u001B[36mOperation.input\u001B[39m\u001B[34m(self)\u001B[39m\n\u001B[32m    265\u001B[39m \u001B[38;5;129m@property\u001B[39m\n\u001B[32m    266\u001B[39m \u001B[38;5;28;01mdef\u001B[39;00m\u001B[38;5;250m \u001B[39m\u001B[34minput\u001B[39m(\u001B[38;5;28mself\u001B[39m):\n\u001B[32m    267\u001B[39m \u001B[38;5;250m    \u001B[39m\u001B[33;03m\"\"\"Retrieves the input tensor(s) of a symbolic operation.\u001B[39;00m\n\u001B[32m    268\u001B[39m \n\u001B[32m    269\u001B[39m \u001B[33;03m    Only returns the tensor(s) corresponding to the *first time*\u001B[39;00m\n\u001B[32m   (...)\u001B[39m\u001B[32m    273\u001B[39m \u001B[33;03m        Input tensor or list of input tensors.\u001B[39;00m\n\u001B[32m    274\u001B[39m \u001B[33;03m    \"\"\"\u001B[39;00m\n\u001B[32m--> \u001B[39m\u001B[32m275\u001B[39m     \u001B[38;5;28;01mreturn\u001B[39;00m \u001B[38;5;28;43mself\u001B[39;49m\u001B[43m.\u001B[49m\u001B[43m_get_node_attribute_at_index\u001B[49m\u001B[43m(\u001B[49m\u001B[32;43m0\u001B[39;49m\u001B[43m,\u001B[49m\u001B[43m \u001B[49m\u001B[33;43m\"\u001B[39;49m\u001B[33;43minput_tensors\u001B[39;49m\u001B[33;43m\"\u001B[39;49m\u001B[43m,\u001B[49m\u001B[43m \u001B[49m\u001B[33;43m\"\u001B[39;49m\u001B[33;43minput\u001B[39;49m\u001B[33;43m\"\u001B[39;49m\u001B[43m)\u001B[49m\n",
      "\u001B[36mFile \u001B[39m\u001B[32m~/repos/classes/CST463-golden/.venv/lib/python3.12/site-packages/keras/src/ops/operation.py:306\u001B[39m, in \u001B[36mOperation._get_node_attribute_at_index\u001B[39m\u001B[34m(self, node_index, attr, attr_name)\u001B[39m\n\u001B[32m    290\u001B[39m \u001B[38;5;250m\u001B[39m\u001B[33;03m\"\"\"Private utility to retrieves an attribute (e.g. inputs) from a node.\u001B[39;00m\n\u001B[32m    291\u001B[39m \n\u001B[32m    292\u001B[39m \u001B[33;03mThis is used to implement the properties:\u001B[39;00m\n\u001B[32m   (...)\u001B[39m\u001B[32m    303\u001B[39m \u001B[33;03m    The operation's attribute `attr` at the node of index `node_index`.\u001B[39;00m\n\u001B[32m    304\u001B[39m \u001B[33;03m\"\"\"\u001B[39;00m\n\u001B[32m    305\u001B[39m \u001B[38;5;28;01mif\u001B[39;00m \u001B[38;5;129;01mnot\u001B[39;00m \u001B[38;5;28mself\u001B[39m._inbound_nodes:\n\u001B[32m--> \u001B[39m\u001B[32m306\u001B[39m     \u001B[38;5;28;01mraise\u001B[39;00m \u001B[38;5;167;01mAttributeError\u001B[39;00m(\n\u001B[32m    307\u001B[39m         \u001B[33mf\u001B[39m\u001B[33m\"\u001B[39m\u001B[33mThe layer \u001B[39m\u001B[38;5;132;01m{\u001B[39;00m\u001B[38;5;28mself\u001B[39m.name\u001B[38;5;132;01m}\u001B[39;00m\u001B[33m has never been called \u001B[39m\u001B[33m\"\u001B[39m\n\u001B[32m    308\u001B[39m         \u001B[33mf\u001B[39m\u001B[33m\"\u001B[39m\u001B[33mand thus has no defined \u001B[39m\u001B[38;5;132;01m{\u001B[39;00mattr_name\u001B[38;5;132;01m}\u001B[39;00m\u001B[33m.\u001B[39m\u001B[33m\"\u001B[39m\n\u001B[32m    309\u001B[39m     )\n\u001B[32m    310\u001B[39m \u001B[38;5;28;01mif\u001B[39;00m \u001B[38;5;129;01mnot\u001B[39;00m \u001B[38;5;28mlen\u001B[39m(\u001B[38;5;28mself\u001B[39m._inbound_nodes) > node_index:\n\u001B[32m    311\u001B[39m     \u001B[38;5;28;01mraise\u001B[39;00m \u001B[38;5;167;01mValueError\u001B[39;00m(\n\u001B[32m    312\u001B[39m         \u001B[33mf\u001B[39m\u001B[33m\"\u001B[39m\u001B[33mAsked to get \u001B[39m\u001B[38;5;132;01m{\u001B[39;00mattr_name\u001B[38;5;132;01m}\u001B[39;00m\u001B[33m at node \u001B[39m\u001B[33m\"\u001B[39m\n\u001B[32m    313\u001B[39m         \u001B[33mf\u001B[39m\u001B[33m\"\u001B[39m\u001B[38;5;132;01m{\u001B[39;00mnode_index\u001B[38;5;132;01m}\u001B[39;00m\u001B[33m, but the operation has only \u001B[39m\u001B[33m\"\u001B[39m\n\u001B[32m    314\u001B[39m         \u001B[33mf\u001B[39m\u001B[33m\"\u001B[39m\u001B[38;5;132;01m{\u001B[39;00m\u001B[38;5;28mlen\u001B[39m(\u001B[38;5;28mself\u001B[39m._inbound_nodes)\u001B[38;5;132;01m}\u001B[39;00m\u001B[33m inbound nodes.\u001B[39m\u001B[33m\"\u001B[39m\n\u001B[32m    315\u001B[39m     )\n",
      "\u001B[31mAttributeError\u001B[39m: The layer sequential has never been called and thus has no defined input."
     ]
    }
   ],
   "execution_count": 7
  },
  {
   "cell_type": "markdown",
   "metadata": {},
   "source": [
    "Try different sample images to see how filters respond differently:"
   ]
  },
  {
   "cell_type": "code",
   "execution_count": null,
   "metadata": {},
   "source": [
    "# Visualize multiple examples\n",
    "for idx in [0, 10, 100, 500]:  # Different samples\n",
    "    sample_image = x_test[idx]\n",
    "    sample_label = y_test[idx]\n",
    "    visualize_feature_maps(model, sample_image, sample_label, CLASS_NAMES)"
   ],
   "outputs": []
  },
  {
   "cell_type": "markdown",
   "metadata": {},
   "source": [
    "---\n",
    "# Method 2: Activation Maximization\n",
    "\n",
    "Instead of showing what filters respond to on real images, we can **generate** images that maximally activate specific filters. This helps us understand what pattern the filter is \"looking for.\"\n",
    "\n",
    "We start with random noise and use gradient ascent to modify the input to maximize the activation of a chosen filter."
   ]
  },
  {
   "cell_type": "code",
   "execution_count": null,
   "metadata": {},
   "source": [
    "def activation_maximization(model, layer_name, filter_idx, iterations=100, lr=1.0):\n",
    "    \"\"\"\n",
    "    Generate an input image that maximally activates a specific filter.\n",
    "    \n",
    "    Args:\n",
    "        model: The CNN model\n",
    "        layer_name: Which layer to maximize ('conv1' or 'conv2')\n",
    "        filter_idx: Which filter in that layer to maximize\n",
    "        iterations: Number of optimization steps\n",
    "        lr: Learning rate for gradient ascent\n",
    "    \"\"\"\n",
    "    # Create a model that outputs the target layer's activations\n",
    "    layer_output = model.get_layer(layer_name).output\n",
    "    feature_extractor = keras.Model(inputs=model.input, outputs=layer_output)\n",
    "    \n",
    "    # Start with random noise\n",
    "    input_img = tf.Variable(tf.random.normal((1, 28, 28, 1)))\n",
    "    \n",
    "    # Track loss over iterations\n",
    "    losses = []\n",
    "    \n",
    "    for i in range(iterations):\n",
    "        with tf.GradientTape() as tape:\n",
    "            # Forward pass\n",
    "            activation = feature_extractor(input_img)\n",
    "            \n",
    "            # Get the activation of the target filter\n",
    "            # Shape: (1, height, width, num_filters)\n",
    "            filter_activation = activation[:, :, :, filter_idx]\n",
    "            \n",
    "            # We want to MAXIMIZE the mean activation\n",
    "            loss = -tf.reduce_mean(filter_activation)\n",
    "        \n",
    "        losses.append(-loss.numpy())  # Store positive value for plotting\n",
    "        \n",
    "        # Get gradients\n",
    "        grads = tape.gradient(loss, input_img)\n",
    "        \n",
    "        # Gradient ascent step\n",
    "        input_img.assign_add(lr * grads)\n",
    "        \n",
    "        # Normalize to keep values reasonable\n",
    "        mean = tf.reduce_mean(input_img)\n",
    "        std = tf.math.reduce_std(input_img)\n",
    "        input_img.assign((input_img - mean) / (std + 1e-5))\n",
    "        \n",
    "        if (i + 1) % 20 == 0:\n",
    "            print(f\"Iteration {i+1}/{iterations}, Activation: {losses[-1]:.4f}\")\n",
    "    \n",
    "    # Visualize result\n",
    "    result_img = input_img[0, :, :, 0].numpy()\n",
    "    \n",
    "    fig, axes = plt.subplots(1, 2, figsize=(10, 4))\n",
    "    \n",
    "    # Show generated image\n",
    "    axes[0].imshow(result_img, cmap='gray')\n",
    "    axes[0].set_title(f'Generated Image\\nMaximizes {layer_name.upper()} Filter {filter_idx}')\n",
    "    axes[0].axis('off')\n",
    "    \n",
    "    # Show optimization progress\n",
    "    axes[1].plot(losses)\n",
    "    axes[1].set_xlabel('Iteration')\n",
    "    axes[1].set_ylabel('Mean Activation')\n",
    "    axes[1].set_title('Optimization Progress')\n",
    "    axes[1].grid(True)\n",
    "    \n",
    "    plt.tight_layout()\n",
    "    plt.show()\n",
    "    \n",
    "    print(f\"\\nFinal activation: {losses[-1]:.4f}\")\n",
    "    print(f\"Image stats - Min: {result_img.min():.4f}, Max: {result_img.max():.4f}\")\n",
    "    \n",
    "    return result_img\n",
    "\n",
    "# Generate images that maximize different filters\n",
    "print(\"\\nGenerating images for Conv1 filters:\")\n",
    "for filter_idx in range(4):  # Show first 4 filters\n",
    "    print(f\"\\n--- Conv1 Filter {filter_idx} ---\")\n",
    "    activation_maximization(model, 'conv1', filter_idx, iterations=100, lr=1.0)"
   ],
   "outputs": []
  },
  {
   "cell_type": "code",
   "execution_count": null,
   "metadata": {},
   "source": [
    "# Try Conv2 filters (more abstract patterns)\n",
    "print(\"\\nGenerating images for Conv2 filters:\")\n",
    "for filter_idx in range(4):  # Show first 4 filters\n",
    "    print(f\"\\n--- Conv2 Filter {filter_idx} ---\")\n",
    "    activation_maximization(model, 'conv2', filter_idx, iterations=100, lr=1.0)"
   ],
   "outputs": []
  },
  {
   "cell_type": "markdown",
   "metadata": {},
   "source": [
    "---\n",
    "# Method 3: Class Activation Maps (Grad-CAM)\n",
    "\n",
    "Grad-CAM shows which parts of the input image are most important for the network's prediction. It works by:\n",
    "1. Computing gradients of the predicted class with respect to feature maps\n",
    "2. Weighting feature maps by these gradients\n",
    "3. Creating a heatmap showing important regions\n",
    "\n",
    "This helps answer: \"What is the network looking at when it makes this prediction?\""
   ]
  },
  {
   "cell_type": "code",
   "execution_count": null,
   "metadata": {},
   "source": [
    "def grad_cam(model, image, target_class=None):\n",
    "    \"\"\"\n",
    "    Generate a Grad-CAM heatmap showing which image regions influence the prediction.\n",
    "    \n",
    "    Args:\n",
    "        model: The CNN model\n",
    "        image: Input image (28, 28, 1)\n",
    "        target_class: Class to generate CAM for (None = predicted class)\n",
    "    \"\"\"\n",
    "    # Prepare image\n",
    "    img_array = np.expand_dims(image, axis=0)\n",
    "    \n",
    "    # Create a model that outputs both the final predictions and conv2 activations\n",
    "    grad_model = keras.Model(\n",
    "        inputs=model.input,\n",
    "        outputs=[model.get_layer('conv2').output, model.output]\n",
    "    )\n",
    "    \n",
    "    # Get predictions\n",
    "    with tf.GradientTape() as tape:\n",
    "        conv_outputs, predictions = grad_model(img_array)\n",
    "        \n",
    "        # Get predicted class if not specified\n",
    "        if target_class is None:\n",
    "            target_class = tf.argmax(predictions[0]).numpy()\n",
    "        \n",
    "        # Get the score for the target class\n",
    "        class_channel = predictions[:, target_class]\n",
    "    \n",
    "    # Compute gradients of the class score with respect to conv2 output\n",
    "    grads = tape.gradient(class_channel, conv_outputs)\n",
    "    \n",
    "    # Global average pooling of gradients (importance weights)\n",
    "    pooled_grads = tf.reduce_mean(grads, axis=(0, 1, 2))  # Shape: (8,)\n",
    "    \n",
    "    print(f\"\\nGrad-CAM weights for target class '{CLASS_NAMES[target_class]}':\")\n",
    "    print(f\"Shape: {pooled_grads.shape} (one weight per filter)\")\n",
    "    print(f\"Weights: {pooled_grads.numpy()}\")\n",
    "    print(f\"\\nInterpretation: Positive weights mean that filter's activation increases prediction confidence\")\n",
    "    \n",
    "    # Weighted combination of feature maps\n",
    "    conv_outputs = conv_outputs[0]  # Remove batch dimension\n",
    "    \n",
    "    # Multiply each filter by its weight and sum\n",
    "    cam = tf.reduce_sum(tf.multiply(pooled_grads, conv_outputs), axis=-1)\n",
    "    \n",
    "    # Apply ReLU (only positive influences)\n",
    "    cam = tf.nn.relu(cam)\n",
    "    \n",
    "    # Normalize\n",
    "    cam = cam - tf.reduce_min(cam)\n",
    "    cam = cam / (tf.reduce_max(cam) + 1e-8)\n",
    "    \n",
    "    # Resize to original image size\n",
    "    cam = tf.image.resize(cam[..., tf.newaxis], (28, 28))\n",
    "    cam = cam.numpy()[:, :, 0]\n",
    "    \n",
    "    return cam, target_class\n",
    "\n",
    "\n",
    "def visualize_grad_cam(model, image, label, class_names):\n",
    "    \"\"\"\n",
    "    Visualize Grad-CAM heatmap overlaid on original image.\n",
    "    \"\"\"\n",
    "    cam, predicted_class = grad_cam(model, image)\n",
    "    \n",
    "    # Get original image\n",
    "    orig_img = image[:, :, 0]\n",
    "    \n",
    "    # Create visualization\n",
    "    fig, axes = plt.subplots(1, 3, figsize=(15, 5))\n",
    "    \n",
    "    # Original image\n",
    "    axes[0].imshow(orig_img, cmap='gray')\n",
    "    axes[0].set_title(f'Original Image\\nTrue: {class_names[label]}')\n",
    "    axes[0].axis('off')\n",
    "    \n",
    "    # Heatmap\n",
    "    im = axes[1].imshow(cam, cmap='jet')\n",
    "    axes[1].set_title(f'Grad-CAM Heatmap\\nPredicted: {class_names[predicted_class]}')\n",
    "    axes[1].axis('off')\n",
    "    plt.colorbar(im, ax=axes[1], fraction=0.046)\n",
    "    \n",
    "    # Overlay\n",
    "    axes[2].imshow(orig_img, cmap='gray')\n",
    "    axes[2].imshow(cam, cmap='jet', alpha=0.5)  # Overlay with transparency\n",
    "    axes[2].set_title('Overlay\\n(red = important for prediction)')\n",
    "    axes[2].axis('off')\n",
    "    \n",
    "    plt.tight_layout()\n",
    "    plt.show()\n",
    "    \n",
    "    print(f\"\\nCAM statistics:\")\n",
    "    print(f\"Min: {cam.min():.4f}, Max: {cam.max():.4f}\")\n",
    "    print(f\"Mean: {cam.mean():.4f}, Std: {cam.std():.4f}\")\n",
    "\n",
    "# Visualize Grad-CAM for several examples\n",
    "print(\"\\nGenerating Grad-CAM visualizations:\")\n",
    "for idx in [0, 10, 100, 500]:\n",
    "    sample_image = x_test[idx]\n",
    "    sample_label = y_test[idx]\n",
    "    print(f\"\\n{'='*60}\")\n",
    "    print(f\"Sample {idx}\")\n",
    "    print(f\"{'='*60}\")\n",
    "    visualize_grad_cam(model, sample_image, sample_label, CLASS_NAMES)"
   ],
   "outputs": []
  },
  {
   "cell_type": "markdown",
   "metadata": {},
   "source": [
    "## Compare Grad-CAM for Different Classes\n",
    "\n",
    "We can also generate Grad-CAM for a specific class (not necessarily the predicted one) to see what the network would look for if trying to classify the image as that class."
   ]
  },
  {
   "cell_type": "code",
   "execution_count": null,
   "metadata": {},
   "source": [
    "def compare_class_cams(model, image, label, class_names, classes_to_compare=None):\n",
    "    \"\"\"\n",
    "    Compare Grad-CAM for different target classes on the same image.\n",
    "    \"\"\"\n",
    "    if classes_to_compare is None:\n",
    "        classes_to_compare = [label, (label + 1) % 10, (label + 2) % 10]\n",
    "    \n",
    "    orig_img = image[:, :, 0]\n",
    "    \n",
    "    fig, axes = plt.subplots(1, len(classes_to_compare) + 1, figsize=(4 * (len(classes_to_compare) + 1), 4))\n",
    "    \n",
    "    # Original image\n",
    "    axes[0].imshow(orig_img, cmap='gray')\n",
    "    axes[0].set_title(f'Original\\nTrue: {class_names[label]}')\n",
    "    axes[0].axis('off')\n",
    "    \n",
    "    # Generate CAM for each class\n",
    "    for i, target_class in enumerate(classes_to_compare):\n",
    "        cam, _ = grad_cam(model, image, target_class=target_class)\n",
    "        \n",
    "        axes[i + 1].imshow(orig_img, cmap='gray')\n",
    "        axes[i + 1].imshow(cam, cmap='jet', alpha=0.5)\n",
    "        axes[i + 1].set_title(f'CAM for\\n\"{class_names[target_class]}\"')\n",
    "        axes[i + 1].axis('off')\n",
    "    \n",
    "    plt.suptitle('Grad-CAM for Different Target Classes\\n(Shows what network looks for to classify as each class)', \n",
    "                 fontsize=12)\n",
    "    plt.tight_layout()\n",
    "    plt.show()\n",
    "\n",
    "# Example: see what features matter for different class predictions\n",
    "sample_image = x_test[0]\n",
    "sample_label = y_test[0]\n",
    "compare_class_cams(model, sample_image, sample_label, CLASS_NAMES)"
   ],
   "outputs": []
  },
  {
   "cell_type": "markdown",
   "metadata": {},
   "source": [
    "---\n",
    "# Summary and Next Steps\n",
    "\n",
    "## What We've Learned\n",
    "\n",
    "1. **Filter Visualizations**: Convolutional filters learn edge detectors, texture patterns, and shape components\n",
    "   - Early layers (Conv1) detect simple patterns (edges, corners)\n",
    "   - Later layers (Conv2) detect more complex combinations\n",
    "\n",
    "2. **Activation Maximization**: We can synthesize images that maximally activate specific filters\n",
    "   - Shows what each filter is \"looking for\"\n",
    "   - Often reveals interesting patterns that aren't obvious from weights alone\n",
    "\n",
    "3. **Grad-CAM**: Highlights which image regions drive predictions\n",
    "   - Shows the model is (hopefully) looking at relevant features\n",
    "   - Can help debug incorrect predictions\n",
    "   - Different target classes focus on different regions\n",
    "\n",
    "## Experiments to Try\n",
    "\n",
    "1. **Switch datasets**: Change `DATASET = 'fashion_mnist'` and re-run to see how filters differ\n",
    "2. **Modify architecture**: Add more filters or layers and see how complexity affects learned features\n",
    "3. **Tune activation maximization**: Adjust learning rate and iterations for clearer generated images\n",
    "4. **Find failure cases**: Use Grad-CAM to understand misclassifications\n",
    "\n",
    "## Questions to Consider\n",
    "\n",
    "- Do Conv1 filters look similar across MNIST and Fashion-MNIST?\n",
    "- What happens to Grad-CAM when the model makes a wrong prediction?\n",
    "- Can you identify which filters are most important for specific digit/class recognition?\n",
    "- How do activation maximization results differ between Conv1 and Conv2 filters?"
   ]
  }
 ],
 "metadata": {
  "kernelspec": {
   "display_name": "Python 3",
   "language": "python",
   "name": "python3"
  },
  "language_info": {
   "codemirror_mode": {
    "name": "ipython",
    "version": 3
   },
   "file_extension": ".py",
   "mimetype": "text/x-python",
   "name": "python",
   "nbconvert_exporter": "python",
   "pygments_lexer": "ipython3",
   "version": "3.8.0"
  }
 },
 "nbformat": 4,
 "nbformat_minor": 4
}
