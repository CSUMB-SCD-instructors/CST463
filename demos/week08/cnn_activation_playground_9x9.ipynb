{
 "cells": [
  {
   "cell_type": "markdown",
   "metadata": {},
   "source": [
    "# Mini CNN Activation Playground (9×9)\n",
    "\n",
    "This notebook helps visualize how simple 3×3 filters activate on tiny 9×9 inputs.\n",
    "It includes:\n",
    "- A pure NumPy **pattern-matching correlation** demo.\n",
    "- A Keras **Conv2D** layer with fixed weights (so students can see identical activations inside Keras).\n",
    "\n",
    "**Tip for class:** Have students edit the input pattern or the filter values and observe how the feature maps change."
   ],
   "id": "546509f8bbb4d080"
  },
  {
   "cell_type": "code",
   "metadata": {
    "ExecuteTime": {
     "end_time": "2025-10-15T16:45:10.476266Z",
     "start_time": "2025-10-15T16:45:10.406659Z"
    }
   },
   "source": [
    "import numpy as np\n",
    "import matplotlib.pyplot as plt\n",
    "\n",
    "def make_input(kind=\"circle\", size=9):\n",
    "    img = np.zeros((size, size), dtype=float)\n",
    "    c = (size - 1) / 2.0\n",
    "    rr, cc = np.ogrid[:size, :size]\n",
    "    if kind == \"circle\":\n",
    "        r = (size - 1) / 2.5\n",
    "        mask = (rr - c) ** 2 + (cc - c) ** 2 <= r ** 2\n",
    "        img[mask] = 1.0\n",
    "    elif kind == \"hline\":\n",
    "        img[size // 2, :] = 1.0\n",
    "    elif kind == \"vline\":\n",
    "        img[:, size // 2] = 1.0\n",
    "    elif kind == \"diag\":\n",
    "        np.fill_diagonal(img, 1.0)\n",
    "    elif kind == \"anti\":\n",
    "        np.fill_diagonal(np.fliplr(img), 1.0)\n",
    "    elif kind == \"dot\":\n",
    "        img[size // 2, size // 2] = 1.0\n",
    "    elif kind == \"noise\":\n",
    "        img = (np.random.rand(size, size) > 0.7).astype(float)\n",
    "    else:\n",
    "        raise ValueError(\"Unknown kind\")\n",
    "    return img\n",
    "\n",
    "K_horizontal = np.array([\n",
    "  [0,0,0],\n",
    "  [1,1,1],\n",
    "  [0,0,0]],\n",
    "  dtype=float\n",
    ")\n",
    "K_vertical   = np.array([\n",
    "  [0,1,0],\n",
    "  [0,1,0],\n",
    "  [0,1,0]],\n",
    "  dtype=float\n",
    ")\n",
    "K_diagonal   = np.array([\n",
    "  [1,0,0],\n",
    "  [0,1,0],\n",
    "  [0,0,1]],\n",
    "  dtype=float\n",
    ")\n",
    "kernels = {\"horizontal\": K_horizontal, \"vertical\": K_vertical, \"diagonal\": K_diagonal}\n",
    "\n",
    "def valid_correlation(img, kernel):\n",
    "    H, W = img.shape\n",
    "    kh, kw = kernel.shape\n",
    "    out = np.zeros((H - kh + 1, W - kw + 1), dtype=float)\n",
    "    for i in range(out.shape[0]):\n",
    "        for j in range(out.shape[1]):\n",
    "            patch = img[i:i+kh, j:j+kw]\n",
    "            out[i, j] = np.sum(patch * kernel)\n",
    "    return out\n",
    "\n",
    "# Try changing the pattern below (\"circle\", \"hline\", \"vline\", \"diag\", \"anti\", \"dot\", \"noise\")\n",
    "img = make_input(\"circle\", 9)\n",
    "\n",
    "plt.figure(figsize=(3,3))\n",
    "plt.imshow(img, cmap=\"viridis\", interpolation=\"nearest\")\n",
    "plt.title(\"Input (9×9)\")\n",
    "plt.axis(\"off\")\n",
    "plt.show()\n",
    "\n",
    "fig = plt.figure(figsize=(9,3))\n",
    "for idx, (kname, K) in enumerate(kernels.items()):\n",
    "    fmap = valid_correlation(img, K)\n",
    "    ax = fig.add_subplot(1, 3, idx+1)\n",
    "    ax.imshow(fmap, cmap=\"viridis\", interpolation=\"nearest\")\n",
    "    ax.set_title(f\"{kname}\\nmax={np.max(fmap):.1f}\")\n",
    "    ax.axis(\"off\")\n",
    "plt.tight_layout()\n",
    "plt.show()"
   ],
   "id": "db11abfbeff67ea9",
   "outputs": [
    {
     "data": {
      "text/plain": [
       "<Figure size 300x300 with 1 Axes>"
      ],
      "image/png": "[encoded data removed]"
     },
     "metadata": {},
     "output_type": "display_data",
     "jetTransient": {
      "display_id": null
     }
    },
    {
     "data": {
      "text/plain": [
       "<Figure size 900x300 with 3 Axes>"
      ],
      "image/png": "[encoded data removed]"
     },
     "metadata": {},
     "output_type": "display_data",
     "jetTransient": {
      "display_id": null
     }
    }
   ],
   "execution_count": 8
  },
  {
   "cell_type": "markdown",
   "metadata": {},
   "source": [
    "## Keras version (optional)\n",
    "\n",
    "This reproduces the same activations using a `Conv2D` layer with **fixed weights**.\n",
    "Note: Keras conv flips kernels internally (convolution vs correlation). Because our\n",
    "kernels are symmetric along their signal direction, the effect here is the same. If you\n",
    "use asymmetric kernels, use `np.flip` when assigning to match Keras' convention."
   ],
   "id": "ad048c46d5db322d"
  },
  {
   "cell_type": "code",
   "metadata": {
    "ExecuteTime": {
     "end_time": "2025-10-15T16:42:27.824103Z",
     "start_time": "2025-10-15T16:42:22.815894Z"
    }
   },
   "source": [
    "import numpy as np\n",
    "import matplotlib.pyplot as plt\n",
    "import tensorflow as tf\n",
    "from tensorflow.keras import layers, models\n",
    "\n",
    "# Reuse the same kernels\n",
    "K_horizontal = np.array([[0,0,0],[1,1,1],[0,0,0]], dtype=float)\n",
    "K_vertical   = np.array([[0,1,0],[0,1,0],[0,1,0]], dtype=float)\n",
    "K_diagonal   = np.array([[1,0,0],[0,1,0],[0,0,1]], dtype=float)\n",
    "kernels = [K_horizontal, K_vertical, K_diagonal]\n",
    "\n",
    "# Build a Conv2D with 3 filters of size 3×3, 1 input channel\n",
    "conv = layers.Conv2D(filters=3, kernel_size=(3,3), use_bias=False, padding='valid', input_shape=(9,9,1))\n",
    "\n",
    "# Initialize weights: shape (kh, kw, in_ch, out_ch) = (3,3,1,3)\n",
    "W = np.stack(kernels, axis=-1).astype(np.float32)  # (3,3,3) — currently (kh, kw, out_ch)\n",
    "W = np.expand_dims(W, axis=2)                      # (3,3,1,3)\n",
    "conv.build((None, 9, 9, 1))\n",
    "conv.set_weights([W])\n",
    "\n",
    "model = models.Sequential([conv])\n",
    "\n",
    "# Create an input and run it\n",
    "def make_input(kind=\"circle\", size=9):\n",
    "    img = np.zeros((size, size), dtype=float)\n",
    "    c = (size - 1) / 2.0\n",
    "    rr, cc = np.ogrid[:size, :size]\n",
    "    if kind == \"circle\":\n",
    "        r = (size - 1) / 2.5\n",
    "        mask = (rr - c) ** 2 + (cc - c) ** 2 <= r ** 2\n",
    "        img[mask] = 1.0\n",
    "    elif kind == \"hline\":\n",
    "        img[size // 2, :] = 1.0\n",
    "    elif kind == \"vline\":\n",
    "        img[:, size // 2] = 1.0\n",
    "    elif kind == \"diag\":\n",
    "        np.fill_diagonal(img, 1.0)\n",
    "    elif kind == \"anti\":\n",
    "        np.fill_diagonal(np.fliplr(img), 1.0)\n",
    "    elif kind == \"dot\":\n",
    "        img[size // 2, size // 2] = 1.0\n",
    "    elif kind == \"noise\":\n",
    "        img = (np.random.rand(size, size) > 0.7).astype(float)\n",
    "    else:\n",
    "        raise ValueError(\"Unknown kind\")\n",
    "    return img\n",
    "\n",
    "img = make_input(\"circle\", 9).astype(np.float32)\n",
    "x = img[None, ..., None]  # (1, 9, 9, 1)\n",
    "y = model.predict(x)\n",
    "\n",
    "fig = plt.figure(figsize=(9,3))\n",
    "titles = [\"horizontal\", \"vertical\", \"diagonal\"]\n",
    "for i in range(3):\n",
    "    ax = fig.add_subplot(1,3,i+1)\n",
    "    ax.imshow(y[0, :, :, i], cmap=\"viridis\", interpolation=\"nearest\")\n",
    "    ax.set_title(f\"{titles[i]}\\nmax={np.max(y[0,:,:,i]):.1f}\")\n",
    "    ax.axis(\"off\")\n",
    "plt.tight_layout()\n",
    "plt.show()"
   ],
   "id": "7756fafaf88f54fa",
   "outputs": [
    {
     "name": "stdout",
     "output_type": "stream",
     "text": [
      "\u001B[1m1/1\u001B[0m \u001B[32m━━━━━━━━━━━━━━━━━━━━\u001B[0m\u001B[37m\u001B[0m \u001B[1m0s\u001B[0m 34ms/step\n"
     ]
    },
    {
     "name": "stderr",
     "output_type": "stream",
     "text": [
      "/Users/ssogden/repos/classes/CST463-golden/.venv/lib/python3.12/site-packages/keras/src/layers/convolutional/base_conv.py:113: UserWarning: Do not pass an `input_shape`/`input_dim` argument to a layer. When using Sequential models, prefer using an `Input(shape)` object as the first layer in the model instead.\n",
      "  super().__init__(activity_regularizer=activity_regularizer, **kwargs)\n"
     ]
    },
    {
     "data": {
      "text/plain": [
       "<Figure size 900x300 with 3 Axes>"
      ],
      "image/png": "[encoded data removed]"
     },
     "metadata": {},
     "output_type": "display_data",
     "jetTransient": {
      "display_id": null
     }
    }
   ],
   "execution_count": 2
  },
  {
   "cell_type": "markdown",
   "metadata": {},
   "source": [
    "### Ideas to explore\n",
    "- Change the input to `\"hline\"`, `\"vline\"`, `\"diag\"`, `\"anti\"`, `\"dot\"`, or `\"noise\"`.\n",
    "- Add an **anti-diagonal** filter or a **Sobel** edge detector and compare responses.\n",
    "- Try **padding='same'** vs **'valid'** in Keras and see output sizes.\n",
    "- Add a `ReLU` after the conv and talk about non-linearities."
   ],
   "id": "6c81339fb7b5ef37"
  }
 ],
 "metadata": {
  "kernelspec": {
   "display_name": "Python 3",
   "language": "python",
   "name": "python3"
  },
  "language_info": {
   "name": "python",
   "version": "3.10"
  }
 },
 "nbformat": 4,
 "nbformat_minor": 5
}
