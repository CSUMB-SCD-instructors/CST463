{
 "cells": [
  {
   "cell_type": "code",
   "id": "initial_id",
   "metadata": {
    "collapsed": true,
    "ExecuteTime": {
     "end_time": "2025-10-06T16:42:43.132128Z",
     "start_time": "2025-10-06T16:42:43.130424Z"
    }
   },
   "source": [
    "import tensorflow as tf\n",
    "import keras\n",
    "import sklearn\n",
    "import numpy as np\n",
    "import matplotlib.pyplot as plt\n",
    "import typing"
   ],
   "outputs": [],
   "execution_count": 15
  },
  {
   "metadata": {
    "ExecuteTime": {
     "end_time": "2025-10-06T16:42:43.751469Z",
     "start_time": "2025-10-06T16:42:43.749376Z"
    }
   },
   "cell_type": "code",
   "source": "",
   "id": "30bccb3f1196b33c",
   "outputs": [],
   "execution_count": null
  },
  {
   "metadata": {
    "ExecuteTime": {
     "end_time": "2025-10-06T16:42:44.090353Z",
     "start_time": "2025-10-06T16:42:44.087693Z"
    }
   },
   "cell_type": "code",
   "source": "NUM_INPUT_FEATURES = 4",
   "id": "22a6d881d3724b18",
   "outputs": [],
   "execution_count": 16
  },
  {
   "metadata": {
    "ExecuteTime": {
     "end_time": "2025-10-06T16:42:44.391920Z",
     "start_time": "2025-10-06T16:42:44.390396Z"
    }
   },
   "cell_type": "code",
   "source": "",
   "id": "a1a111105b592daa",
   "outputs": [],
   "execution_count": null
  },
  {
   "metadata": {},
   "cell_type": "markdown",
   "source": "## Helper Functions",
   "id": "c5d8f9f6ae227b3b"
  },
  {
   "metadata": {
    "ExecuteTime": {
     "end_time": "2025-10-06T16:51:16.573218Z",
     "start_time": "2025-10-06T16:51:16.567664Z"
    }
   },
   "cell_type": "code",
   "source": [
    "\n",
    "def plot_multiple_histories(histories : typing.Dict, metric='loss', use_greyscale=True, show_validation=False, sort_agg_func=np.mean, sort_history_length=2, *args, **kwargs):\n",
    "  \"\"\"\n",
    "  Plots the training history of multiple models on the same plot for comparison.\n",
    "\n",
    "  Parameters:\n",
    "    histories: List of History objects from multiple model's fit() calls.\n",
    "    metric: The metric to plot ('loss', 'accuracy', etc.).\n",
    "    labels: List of labels for the models. If None, defaults to 'Model 1', 'Model 2', etc.\n",
    "  \"\"\"\n",
    "  # Check if labels are provided, otherwise generate default labels\n",
    "  # if labels is None:\n",
    "  #   labels = [f'Model {i+1}' for i in range(len(histories))]\n",
    "\n",
    "  # Initialize the plot\n",
    "  plt.figure(figsize=(10, 6))\n",
    "\n",
    "  norm = plt.Normalize(vmin=0, vmax=len(histories))\n",
    "  grayscale_cmap = plt.colormaps['gray']\n",
    "\n",
    "  sorted_keys = sorted(histories.keys(), key=(lambda k: sort_agg_func(histories[k].history[metric][:-sort_history_length])))\n",
    "  for i, label in enumerate(sorted_keys):\n",
    "    history = histories[label]\n",
    "    #for i, (label, history) in enumerate(histories.items()):\n",
    "    epochs = range(1, len(history.history[metric]) + 1)\n",
    "\n",
    "    # Plot training metric\n",
    "    plt.plot(epochs, history.history[metric], label=f'{label} {metric.capitalize()}', color=grayscale_cmap(norm(i)))\n",
    "\n",
    "    # Plot validation metric if available\n",
    "    if show_validation and f'val_{metric}' in history.history:\n",
    "      plt.plot(epochs, history.history[f'val_{metric}'], '--', label=f'{label} Validation {metric.capitalize()}', color=grayscale_cmap(norm(i)))\n",
    "\n",
    "  # Add labels and title\n",
    "  plt.title(f'Comparison of {metric.capitalize()} Between Models')\n",
    "  plt.xlabel('Epochs')\n",
    "  plt.ylabel(metric.capitalize())\n",
    "  plt.legend()\n",
    "\n",
    "  # Show plot\n",
    "  plt.show()\n"
   ],
   "id": "49baa31260bb8292",
   "outputs": [],
   "execution_count": 20
  },
  {
   "metadata": {
    "ExecuteTime": {
     "end_time": "2025-10-06T16:53:49.549632Z",
     "start_time": "2025-10-06T16:53:49.541084Z"
    }
   },
   "cell_type": "code",
   "source": [
    "def make_data(\n",
    "    num_samples=1000,\n",
    "    num_input_features=10,\n",
    "    informative_features=2,   # how many features actually matter\n",
    "    n_classes=2,\n",
    "    test_size=0.33,\n",
    "    random_state=42,\n",
    "    clusters_per_class=1,     # keep 1 to avoid the common constraint error\n",
    "    class_sep=1.0,\n",
    "    flip_y=0.0\n",
    "):\n",
    "    \"\"\"\n",
    "    Generate simple classification data and return train/test splits.\n",
    "\n",
    "    Args:\n",
    "        num_samples: total samples to generate.\n",
    "        num_input_features: total feature columns in X.\n",
    "        informative_features: number of informative features (<= num_input_features).\n",
    "        n_classes: number of classes (2 for binary).\n",
    "        test_size: fraction for test split.\n",
    "        random_state: RNG seed for reproducibility.\n",
    "        clusters_per_class: clusters per class (keep 1 for simplicity).\n",
    "        class_sep: class separability (larger => easier).\n",
    "        flip_y: label noise fraction.\n",
    "\n",
    "    Returns:\n",
    "        X_train, X_test, y_train, y_test\n",
    "    \"\"\"\n",
    "    X, y = sklearn.datasets.make_classification(\n",
    "        n_samples=num_samples,\n",
    "        n_features=num_input_features,\n",
    "        n_informative=informative_features,\n",
    "        n_redundant=0,\n",
    "        n_repeated=0,\n",
    "        n_classes=n_classes,\n",
    "        n_clusters_per_class=clusters_per_class,\n",
    "        class_sep=class_sep,\n",
    "        flip_y=flip_y,\n",
    "        shuffle=True,\n",
    "        random_state=random_state,\n",
    "    )\n",
    "\n",
    "    return sklearn.model_selection.train_test_split(\n",
    "        X, y, test_size=test_size, random_state=random_state\n",
    "    )\n"
   ],
   "id": "b0ebc6750be1622e",
   "outputs": [],
   "execution_count": 25
  },
  {
   "metadata": {},
   "cell_type": "markdown",
   "source": "## Our Functions",
   "id": "f3c0c54d27abfae3"
  },
  {
   "metadata": {
    "ExecuteTime": {
     "end_time": "2025-10-06T16:51:18.201097Z",
     "start_time": "2025-10-06T16:51:18.198904Z"
    }
   },
   "cell_type": "code",
   "source": [
    "def make_model(\n",
    "    num_hidden_layers=1,\n",
    "    activation='relu'\n",
    "):\n",
    "    model = keras.models.Sequential()\n",
    "    model.add(keras.layers.Input(shape=(NUM_INPUT_FEATURES,)))\n",
    "\n",
    "    # Add hidden layers\n",
    "    for _ in range(num_hidden_layers):\n",
    "        model.add(keras.layers.Dense(16, activation=activation))\n",
    "\n",
    "    # Output layer\n",
    "    model.add(keras.layers.Dense(1, activation='sigmoid'))\n",
    "\n",
    "    return model"
   ],
   "id": "b7069512853265e6",
   "outputs": [],
   "execution_count": 22
  },
  {
   "metadata": {
    "ExecuteTime": {
     "end_time": "2025-10-06T16:40:05.577577Z",
     "start_time": "2025-10-06T16:40:05.574575Z"
    }
   },
   "cell_type": "code",
   "source": [
    "def train_model(model: keras.Model, X_train, y_train, loss_func='binary_crossentropy', *args, **kwargs):\n",
    "  model.compile(\n",
    "    optimizer='SGD',\n",
    "    loss=loss_func,\n",
    "    metrics=['accuracy']\n",
    "  )\n",
    "  history = model.fit(\n",
    "    X_train, y_train,\n",
    "    batch_size=32,\n",
    "    epochs=40,\n",
    "    validation_split=0.3\n",
    "  )\n",
    "  return history"
   ],
   "id": "cbc7960200687dd3",
   "outputs": [],
   "execution_count": 14
  },
  {
   "metadata": {
    "ExecuteTime": {
     "end_time": "2025-10-06T16:33:47.573724Z",
     "start_time": "2025-10-06T16:33:47.572377Z"
    }
   },
   "cell_type": "code",
   "source": "",
   "id": "ccd5865ea6f1cfb3",
   "outputs": [],
   "execution_count": null
  },
  {
   "metadata": {},
   "cell_type": "markdown",
   "source": "## Our Flow",
   "id": "7bd073d79f3a58c"
  },
  {
   "metadata": {},
   "cell_type": "markdown",
   "source": "### Take 1: A simple model",
   "id": "bf6e6a422b4643b0"
  },
  {
   "metadata": {
    "ExecuteTime": {
     "end_time": "2025-10-06T16:35:09.629612Z",
     "start_time": "2025-10-06T16:35:09.619653Z"
    }
   },
   "cell_type": "code",
   "source": [
    "model = make_model()\n",
    "model.summary()"
   ],
   "id": "cb4754b6da51b057",
   "outputs": [
    {
     "data": {
      "text/plain": [
       "\u001B[1mModel: \"sequential_1\"\u001B[0m\n"
      ],
      "text/html": [
       "<pre style=\"white-space:pre;overflow-x:auto;line-height:normal;font-family:Menlo,'DejaVu Sans Mono',consolas,'Courier New',monospace\"><span style=\"font-weight: bold\">Model: \"sequential_1\"</span>\n",
       "</pre>\n"
      ]
     },
     "metadata": {},
     "output_type": "display_data",
     "jetTransient": {
      "display_id": null
     }
    },
    {
     "data": {
      "text/plain": [
       "┏━━━━━━━━━━━━━━━━━━━━━━━━━━━━━━━━━┳━━━━━━━━━━━━━━━━━━━━━━━━┳━━━━━━━━━━━━━━━┓\n",
       "┃\u001B[1m \u001B[0m\u001B[1mLayer (type)                   \u001B[0m\u001B[1m \u001B[0m┃\u001B[1m \u001B[0m\u001B[1mOutput Shape          \u001B[0m\u001B[1m \u001B[0m┃\u001B[1m \u001B[0m\u001B[1m      Param #\u001B[0m\u001B[1m \u001B[0m┃\n",
       "┡━━━━━━━━━━━━━━━━━━━━━━━━━━━━━━━━━╇━━━━━━━━━━━━━━━━━━━━━━━━╇━━━━━━━━━━━━━━━┩\n",
       "│ dense_1 (\u001B[38;5;33mDense\u001B[0m)                 │ (\u001B[38;5;45mNone\u001B[0m, \u001B[38;5;34m1\u001B[0m)              │             \u001B[38;5;34m5\u001B[0m │\n",
       "└─────────────────────────────────┴────────────────────────┴───────────────┘\n"
      ],
      "text/html": [
       "<pre style=\"white-space:pre;overflow-x:auto;line-height:normal;font-family:Menlo,'DejaVu Sans Mono',consolas,'Courier New',monospace\">┏━━━━━━━━━━━━━━━━━━━━━━━━━━━━━━━━━┳━━━━━━━━━━━━━━━━━━━━━━━━┳━━━━━━━━━━━━━━━┓\n",
       "┃<span style=\"font-weight: bold\"> Layer (type)                    </span>┃<span style=\"font-weight: bold\"> Output Shape           </span>┃<span style=\"font-weight: bold\">       Param # </span>┃\n",
       "┡━━━━━━━━━━━━━━━━━━━━━━━━━━━━━━━━━╇━━━━━━━━━━━━━━━━━━━━━━━━╇━━━━━━━━━━━━━━━┩\n",
       "│ dense_1 (<span style=\"color: #0087ff; text-decoration-color: #0087ff\">Dense</span>)                 │ (<span style=\"color: #00d7ff; text-decoration-color: #00d7ff\">None</span>, <span style=\"color: #00af00; text-decoration-color: #00af00\">1</span>)              │             <span style=\"color: #00af00; text-decoration-color: #00af00\">5</span> │\n",
       "└─────────────────────────────────┴────────────────────────┴───────────────┘\n",
       "</pre>\n"
      ]
     },
     "metadata": {},
     "output_type": "display_data",
     "jetTransient": {
      "display_id": null
     }
    },
    {
     "data": {
      "text/plain": [
       "\u001B[1m Total params: \u001B[0m\u001B[38;5;34m5\u001B[0m (20.00 B)\n"
      ],
      "text/html": [
       "<pre style=\"white-space:pre;overflow-x:auto;line-height:normal;font-family:Menlo,'DejaVu Sans Mono',consolas,'Courier New',monospace\"><span style=\"font-weight: bold\"> Total params: </span><span style=\"color: #00af00; text-decoration-color: #00af00\">5</span> (20.00 B)\n",
       "</pre>\n"
      ]
     },
     "metadata": {},
     "output_type": "display_data",
     "jetTransient": {
      "display_id": null
     }
    },
    {
     "data": {
      "text/plain": [
       "\u001B[1m Trainable params: \u001B[0m\u001B[38;5;34m5\u001B[0m (20.00 B)\n"
      ],
      "text/html": [
       "<pre style=\"white-space:pre;overflow-x:auto;line-height:normal;font-family:Menlo,'DejaVu Sans Mono',consolas,'Courier New',monospace\"><span style=\"font-weight: bold\"> Trainable params: </span><span style=\"color: #00af00; text-decoration-color: #00af00\">5</span> (20.00 B)\n",
       "</pre>\n"
      ]
     },
     "metadata": {},
     "output_type": "display_data",
     "jetTransient": {
      "display_id": null
     }
    },
    {
     "data": {
      "text/plain": [
       "\u001B[1m Non-trainable params: \u001B[0m\u001B[38;5;34m0\u001B[0m (0.00 B)\n"
      ],
      "text/html": [
       "<pre style=\"white-space:pre;overflow-x:auto;line-height:normal;font-family:Menlo,'DejaVu Sans Mono',consolas,'Courier New',monospace\"><span style=\"font-weight: bold\"> Non-trainable params: </span><span style=\"color: #00af00; text-decoration-color: #00af00\">0</span> (0.00 B)\n",
       "</pre>\n"
      ]
     },
     "metadata": {},
     "output_type": "display_data",
     "jetTransient": {
      "display_id": null
     }
    }
   ],
   "execution_count": 11
  },
  {
   "metadata": {
    "ExecuteTime": {
     "end_time": "2025-10-06T16:55:01.476901Z",
     "start_time": "2025-10-06T16:54:58.462540Z"
    }
   },
   "cell_type": "code",
   "source": [
    "(X_train, X_test, y_train, y_test) = make_data(num_input_features=NUM_INPUT_FEATURES)\n",
    "\n",
    "plot_multiple_histories(\n",
    "  {\n",
    "    \"simple0\": train_model(model, X_train, y_train),\n",
    "    \"simple1\": train_model(model, X_train, y_train),\n",
    "  }\n",
    ")"
   ],
   "id": "bd945b8142db00ff",
   "outputs": [
    {
     "name": "stdout",
     "output_type": "stream",
     "text": [
      "Epoch 1/40\n",
      "\u001B[1m15/15\u001B[0m \u001B[32m━━━━━━━━━━━━━━━━━━━━\u001B[0m\u001B[37m\u001B[0m \u001B[1m0s\u001B[0m 5ms/step - accuracy: 0.8932 - loss: 0.2909 - val_accuracy: 0.9158 - val_loss: 0.2610\n",
      "Epoch 2/40\n",
      "\u001B[1m15/15\u001B[0m \u001B[32m━━━━━━━━━━━━━━━━━━━━\u001B[0m\u001B[37m\u001B[0m \u001B[1m0s\u001B[0m 2ms/step - accuracy: 0.8932 - loss: 0.2900 - val_accuracy: 0.9158 - val_loss: 0.2602\n",
      "Epoch 3/40\n",
      "\u001B[1m15/15\u001B[0m \u001B[32m━━━━━━━━━━━━━━━━━━━━\u001B[0m\u001B[37m\u001B[0m \u001B[1m0s\u001B[0m 2ms/step - accuracy: 0.8910 - loss: 0.2892 - val_accuracy: 0.9158 - val_loss: 0.2593\n",
      "Epoch 4/40\n",
      "\u001B[1m15/15\u001B[0m \u001B[32m━━━━━━━━━━━━━━━━━━━━\u001B[0m\u001B[37m\u001B[0m \u001B[1m0s\u001B[0m 2ms/step - accuracy: 0.8932 - loss: 0.2884 - val_accuracy: 0.9208 - val_loss: 0.2586\n",
      "Epoch 5/40\n",
      "\u001B[1m15/15\u001B[0m \u001B[32m━━━━━━━━━━━━━━━━━━━━\u001B[0m\u001B[37m\u001B[0m \u001B[1m0s\u001B[0m 2ms/step - accuracy: 0.8932 - loss: 0.2877 - val_accuracy: 0.9208 - val_loss: 0.2578\n",
      "Epoch 6/40\n",
      "\u001B[1m15/15\u001B[0m \u001B[32m━━━━━━━━━━━━━━━━━━━━\u001B[0m\u001B[37m\u001B[0m \u001B[1m0s\u001B[0m 2ms/step - accuracy: 0.8932 - loss: 0.2868 - val_accuracy: 0.9208 - val_loss: 0.2571\n",
      "Epoch 7/40\n",
      "\u001B[1m15/15\u001B[0m \u001B[32m━━━━━━━━━━━━━━━━━━━━\u001B[0m\u001B[37m\u001B[0m \u001B[1m0s\u001B[0m 2ms/step - accuracy: 0.8932 - loss: 0.2861 - val_accuracy: 0.9208 - val_loss: 0.2563\n",
      "Epoch 8/40\n",
      "\u001B[1m15/15\u001B[0m \u001B[32m━━━━━━━━━━━━━━━━━━━━\u001B[0m\u001B[37m\u001B[0m \u001B[1m0s\u001B[0m 2ms/step - accuracy: 0.8932 - loss: 0.2854 - val_accuracy: 0.9208 - val_loss: 0.2557\n",
      "Epoch 9/40\n",
      "\u001B[1m15/15\u001B[0m \u001B[32m━━━━━━━━━━━━━━━━━━━━\u001B[0m\u001B[37m\u001B[0m \u001B[1m0s\u001B[0m 2ms/step - accuracy: 0.8932 - loss: 0.2847 - val_accuracy: 0.9208 - val_loss: 0.2550\n",
      "Epoch 10/40\n",
      "\u001B[1m15/15\u001B[0m \u001B[32m━━━━━━━━━━━━━━━━━━━━\u001B[0m\u001B[37m\u001B[0m \u001B[1m0s\u001B[0m 2ms/step - accuracy: 0.8932 - loss: 0.2840 - val_accuracy: 0.9208 - val_loss: 0.2543\n",
      "Epoch 11/40\n",
      "\u001B[1m15/15\u001B[0m \u001B[32m━━━━━━━━━━━━━━━━━━━━\u001B[0m\u001B[37m\u001B[0m \u001B[1m0s\u001B[0m 2ms/step - accuracy: 0.8932 - loss: 0.2834 - val_accuracy: 0.9208 - val_loss: 0.2537\n",
      "Epoch 12/40\n",
      "\u001B[1m15/15\u001B[0m \u001B[32m━━━━━━━━━━━━━━━━━━━━\u001B[0m\u001B[37m\u001B[0m \u001B[1m0s\u001B[0m 2ms/step - accuracy: 0.8932 - loss: 0.2827 - val_accuracy: 0.9208 - val_loss: 0.2530\n",
      "Epoch 13/40\n",
      "\u001B[1m15/15\u001B[0m \u001B[32m━━━━━━━━━━━━━━━━━━━━\u001B[0m\u001B[37m\u001B[0m \u001B[1m0s\u001B[0m 2ms/step - accuracy: 0.8953 - loss: 0.2820 - val_accuracy: 0.9208 - val_loss: 0.2525\n",
      "Epoch 14/40\n",
      "\u001B[1m15/15\u001B[0m \u001B[32m━━━━━━━━━━━━━━━━━━━━\u001B[0m\u001B[37m\u001B[0m \u001B[1m0s\u001B[0m 2ms/step - accuracy: 0.8932 - loss: 0.2815 - val_accuracy: 0.9208 - val_loss: 0.2518\n",
      "Epoch 15/40\n",
      "\u001B[1m15/15\u001B[0m \u001B[32m━━━━━━━━━━━━━━━━━━━━\u001B[0m\u001B[37m\u001B[0m \u001B[1m0s\u001B[0m 2ms/step - accuracy: 0.8932 - loss: 0.2808 - val_accuracy: 0.9208 - val_loss: 0.2512\n",
      "Epoch 16/40\n",
      "\u001B[1m15/15\u001B[0m \u001B[32m━━━━━━━━━━━━━━━━━━━━\u001B[0m\u001B[37m\u001B[0m \u001B[1m0s\u001B[0m 2ms/step - accuracy: 0.8953 - loss: 0.2802 - val_accuracy: 0.9208 - val_loss: 0.2506\n",
      "Epoch 17/40\n",
      "\u001B[1m15/15\u001B[0m \u001B[32m━━━━━━━━━━━━━━━━━━━━\u001B[0m\u001B[37m\u001B[0m \u001B[1m0s\u001B[0m 2ms/step - accuracy: 0.8953 - loss: 0.2795 - val_accuracy: 0.9208 - val_loss: 0.2500\n",
      "Epoch 18/40\n",
      "\u001B[1m15/15\u001B[0m \u001B[32m━━━━━━━━━━━━━━━━━━━━\u001B[0m\u001B[37m\u001B[0m \u001B[1m0s\u001B[0m 2ms/step - accuracy: 0.8953 - loss: 0.2790 - val_accuracy: 0.9208 - val_loss: 0.2494\n",
      "Epoch 19/40\n",
      "\u001B[1m15/15\u001B[0m \u001B[32m━━━━━━━━━━━━━━━━━━━━\u001B[0m\u001B[37m\u001B[0m \u001B[1m0s\u001B[0m 2ms/step - accuracy: 0.8953 - loss: 0.2784 - val_accuracy: 0.9158 - val_loss: 0.2488\n",
      "Epoch 20/40\n",
      "\u001B[1m15/15\u001B[0m \u001B[32m━━━━━━━━━━━━━━━━━━━━\u001B[0m\u001B[37m\u001B[0m \u001B[1m0s\u001B[0m 2ms/step - accuracy: 0.8932 - loss: 0.2779 - val_accuracy: 0.9208 - val_loss: 0.2484\n",
      "Epoch 21/40\n",
      "\u001B[1m15/15\u001B[0m \u001B[32m━━━━━━━━━━━━━━━━━━━━\u001B[0m\u001B[37m\u001B[0m \u001B[1m0s\u001B[0m 2ms/step - accuracy: 0.8953 - loss: 0.2773 - val_accuracy: 0.9208 - val_loss: 0.2478\n",
      "Epoch 22/40\n",
      "\u001B[1m15/15\u001B[0m \u001B[32m━━━━━━━━━━━━━━━━━━━━\u001B[0m\u001B[37m\u001B[0m \u001B[1m0s\u001B[0m 2ms/step - accuracy: 0.8953 - loss: 0.2768 - val_accuracy: 0.9208 - val_loss: 0.2474\n",
      "Epoch 23/40\n",
      "\u001B[1m15/15\u001B[0m \u001B[32m━━━━━━━━━━━━━━━━━━━━\u001B[0m\u001B[37m\u001B[0m \u001B[1m0s\u001B[0m 2ms/step - accuracy: 0.8953 - loss: 0.2763 - val_accuracy: 0.9208 - val_loss: 0.2469\n",
      "Epoch 24/40\n",
      "\u001B[1m15/15\u001B[0m \u001B[32m━━━━━━━━━━━━━━━━━━━━\u001B[0m\u001B[37m\u001B[0m \u001B[1m0s\u001B[0m 2ms/step - accuracy: 0.8953 - loss: 0.2757 - val_accuracy: 0.9208 - val_loss: 0.2464\n",
      "Epoch 25/40\n",
      "\u001B[1m15/15\u001B[0m \u001B[32m━━━━━━━━━━━━━━━━━━━━\u001B[0m\u001B[37m\u001B[0m \u001B[1m0s\u001B[0m 2ms/step - accuracy: 0.8953 - loss: 0.2752 - val_accuracy: 0.9158 - val_loss: 0.2459\n",
      "Epoch 26/40\n",
      "\u001B[1m15/15\u001B[0m \u001B[32m━━━━━━━━━━━━━━━━━━━━\u001B[0m\u001B[37m\u001B[0m \u001B[1m0s\u001B[0m 2ms/step - accuracy: 0.8953 - loss: 0.2747 - val_accuracy: 0.9158 - val_loss: 0.2454\n",
      "Epoch 27/40\n",
      "\u001B[1m15/15\u001B[0m \u001B[32m━━━━━━━━━━━━━━━━━━━━\u001B[0m\u001B[37m\u001B[0m \u001B[1m0s\u001B[0m 2ms/step - accuracy: 0.8953 - loss: 0.2742 - val_accuracy: 0.9158 - val_loss: 0.2449\n",
      "Epoch 28/40\n",
      "\u001B[1m15/15\u001B[0m \u001B[32m━━━━━━━━━━━━━━━━━━━━\u001B[0m\u001B[37m\u001B[0m \u001B[1m0s\u001B[0m 2ms/step - accuracy: 0.8953 - loss: 0.2737 - val_accuracy: 0.9158 - val_loss: 0.2445\n",
      "Epoch 29/40\n",
      "\u001B[1m15/15\u001B[0m \u001B[32m━━━━━━━━━━━━━━━━━━━━\u001B[0m\u001B[37m\u001B[0m \u001B[1m0s\u001B[0m 2ms/step - accuracy: 0.8953 - loss: 0.2733 - val_accuracy: 0.9158 - val_loss: 0.2440\n",
      "Epoch 30/40\n",
      "\u001B[1m15/15\u001B[0m \u001B[32m━━━━━━━━━━━━━━━━━━━━\u001B[0m\u001B[37m\u001B[0m \u001B[1m0s\u001B[0m 2ms/step - accuracy: 0.8953 - loss: 0.2728 - val_accuracy: 0.9158 - val_loss: 0.2436\n",
      "Epoch 31/40\n",
      "\u001B[1m15/15\u001B[0m \u001B[32m━━━━━━━━━━━━━━━━━━━━\u001B[0m\u001B[37m\u001B[0m \u001B[1m0s\u001B[0m 2ms/step - accuracy: 0.8932 - loss: 0.2723 - val_accuracy: 0.9158 - val_loss: 0.2431\n",
      "Epoch 32/40\n",
      "\u001B[1m15/15\u001B[0m \u001B[32m━━━━━━━━━━━━━━━━━━━━\u001B[0m\u001B[37m\u001B[0m \u001B[1m0s\u001B[0m 2ms/step - accuracy: 0.8953 - loss: 0.2719 - val_accuracy: 0.9158 - val_loss: 0.2427\n",
      "Epoch 33/40\n",
      "\u001B[1m15/15\u001B[0m \u001B[32m━━━━━━━━━━━━━━━━━━━━\u001B[0m\u001B[37m\u001B[0m \u001B[1m0s\u001B[0m 2ms/step - accuracy: 0.8910 - loss: 0.2715 - val_accuracy: 0.9208 - val_loss: 0.2423\n",
      "Epoch 34/40\n",
      "\u001B[1m15/15\u001B[0m \u001B[32m━━━━━━━━━━━━━━━━━━━━\u001B[0m\u001B[37m\u001B[0m \u001B[1m0s\u001B[0m 2ms/step - accuracy: 0.8953 - loss: 0.2710 - val_accuracy: 0.9208 - val_loss: 0.2419\n",
      "Epoch 35/40\n",
      "\u001B[1m15/15\u001B[0m \u001B[32m━━━━━━━━━━━━━━━━━━━━\u001B[0m\u001B[37m\u001B[0m \u001B[1m0s\u001B[0m 2ms/step - accuracy: 0.8932 - loss: 0.2706 - val_accuracy: 0.9208 - val_loss: 0.2415\n",
      "Epoch 36/40\n",
      "\u001B[1m15/15\u001B[0m \u001B[32m━━━━━━━━━━━━━━━━━━━━\u001B[0m\u001B[37m\u001B[0m \u001B[1m0s\u001B[0m 2ms/step - accuracy: 0.8910 - loss: 0.2702 - val_accuracy: 0.9208 - val_loss: 0.2411\n",
      "Epoch 37/40\n",
      "\u001B[1m15/15\u001B[0m \u001B[32m━━━━━━━━━━━━━━━━━━━━\u001B[0m\u001B[37m\u001B[0m \u001B[1m0s\u001B[0m 2ms/step - accuracy: 0.8932 - loss: 0.2697 - val_accuracy: 0.9208 - val_loss: 0.2407\n",
      "Epoch 38/40\n",
      "\u001B[1m15/15\u001B[0m \u001B[32m━━━━━━━━━━━━━━━━━━━━\u001B[0m\u001B[37m\u001B[0m \u001B[1m0s\u001B[0m 2ms/step - accuracy: 0.8932 - loss: 0.2694 - val_accuracy: 0.9208 - val_loss: 0.2403\n",
      "Epoch 39/40\n",
      "\u001B[1m15/15\u001B[0m \u001B[32m━━━━━━━━━━━━━━━━━━━━\u001B[0m\u001B[37m\u001B[0m \u001B[1m0s\u001B[0m 2ms/step - accuracy: 0.8910 - loss: 0.2689 - val_accuracy: 0.9208 - val_loss: 0.2400\n",
      "Epoch 40/40\n",
      "\u001B[1m15/15\u001B[0m \u001B[32m━━━━━━━━━━━━━━━━━━━━\u001B[0m\u001B[37m\u001B[0m \u001B[1m0s\u001B[0m 2ms/step - accuracy: 0.8953 - loss: 0.2686 - val_accuracy: 0.9208 - val_loss: 0.2396\n",
      "Epoch 1/40\n",
      "\u001B[1m15/15\u001B[0m \u001B[32m━━━━━━━━━━━━━━━━━━━━\u001B[0m\u001B[37m\u001B[0m \u001B[1m0s\u001B[0m 5ms/step - accuracy: 0.8932 - loss: 0.2682 - val_accuracy: 0.9208 - val_loss: 0.2392\n",
      "Epoch 2/40\n",
      "\u001B[1m15/15\u001B[0m \u001B[32m━━━━━━━━━━━━━━━━━━━━\u001B[0m\u001B[37m\u001B[0m \u001B[1m0s\u001B[0m 2ms/step - accuracy: 0.8932 - loss: 0.2678 - val_accuracy: 0.9208 - val_loss: 0.2388\n",
      "Epoch 3/40\n",
      "\u001B[1m15/15\u001B[0m \u001B[32m━━━━━━━━━━━━━━━━━━━━\u001B[0m\u001B[37m\u001B[0m \u001B[1m0s\u001B[0m 2ms/step - accuracy: 0.8910 - loss: 0.2674 - val_accuracy: 0.9208 - val_loss: 0.2385\n",
      "Epoch 4/40\n",
      "\u001B[1m15/15\u001B[0m \u001B[32m━━━━━━━━━━━━━━━━━━━━\u001B[0m\u001B[37m\u001B[0m \u001B[1m0s\u001B[0m 2ms/step - accuracy: 0.8932 - loss: 0.2670 - val_accuracy: 0.9208 - val_loss: 0.2381\n",
      "Epoch 5/40\n",
      "\u001B[1m15/15\u001B[0m \u001B[32m━━━━━━━━━━━━━━━━━━━━\u001B[0m\u001B[37m\u001B[0m \u001B[1m0s\u001B[0m 2ms/step - accuracy: 0.8910 - loss: 0.2667 - val_accuracy: 0.9208 - val_loss: 0.2378\n",
      "Epoch 6/40\n",
      "\u001B[1m15/15\u001B[0m \u001B[32m━━━━━━━━━━━━━━━━━━━━\u001B[0m\u001B[37m\u001B[0m \u001B[1m0s\u001B[0m 2ms/step - accuracy: 0.8910 - loss: 0.2663 - val_accuracy: 0.9257 - val_loss: 0.2375\n",
      "Epoch 7/40\n",
      "\u001B[1m15/15\u001B[0m \u001B[32m━━━━━━━━━━━━━━━━━━━━\u001B[0m\u001B[37m\u001B[0m \u001B[1m0s\u001B[0m 2ms/step - accuracy: 0.8910 - loss: 0.2659 - val_accuracy: 0.9257 - val_loss: 0.2371\n",
      "Epoch 8/40\n",
      "\u001B[1m15/15\u001B[0m \u001B[32m━━━━━━━━━━━━━━━━━━━━\u001B[0m\u001B[37m\u001B[0m \u001B[1m0s\u001B[0m 2ms/step - accuracy: 0.8910 - loss: 0.2656 - val_accuracy: 0.9257 - val_loss: 0.2368\n",
      "Epoch 9/40\n",
      "\u001B[1m15/15\u001B[0m \u001B[32m━━━━━━━━━━━━━━━━━━━━\u001B[0m\u001B[37m\u001B[0m \u001B[1m0s\u001B[0m 2ms/step - accuracy: 0.8910 - loss: 0.2653 - val_accuracy: 0.9257 - val_loss: 0.2365\n",
      "Epoch 10/40\n",
      "\u001B[1m15/15\u001B[0m \u001B[32m━━━━━━━━━━━━━━━━━━━━\u001B[0m\u001B[37m\u001B[0m \u001B[1m0s\u001B[0m 2ms/step - accuracy: 0.8910 - loss: 0.2650 - val_accuracy: 0.9257 - val_loss: 0.2362\n",
      "Epoch 11/40\n",
      "\u001B[1m15/15\u001B[0m \u001B[32m━━━━━━━━━━━━━━━━━━━━\u001B[0m\u001B[37m\u001B[0m \u001B[1m0s\u001B[0m 2ms/step - accuracy: 0.8910 - loss: 0.2647 - val_accuracy: 0.9257 - val_loss: 0.2359\n",
      "Epoch 12/40\n",
      "\u001B[1m15/15\u001B[0m \u001B[32m━━━━━━━━━━━━━━━━━━━━\u001B[0m\u001B[37m\u001B[0m \u001B[1m0s\u001B[0m 2ms/step - accuracy: 0.8910 - loss: 0.2643 - val_accuracy: 0.9257 - val_loss: 0.2356\n",
      "Epoch 13/40\n",
      "\u001B[1m15/15\u001B[0m \u001B[32m━━━━━━━━━━━━━━━━━━━━\u001B[0m\u001B[37m\u001B[0m \u001B[1m0s\u001B[0m 2ms/step - accuracy: 0.8910 - loss: 0.2639 - val_accuracy: 0.9257 - val_loss: 0.2353\n",
      "Epoch 14/40\n",
      "\u001B[1m15/15\u001B[0m \u001B[32m━━━━━━━━━━━━━━━━━━━━\u001B[0m\u001B[37m\u001B[0m \u001B[1m0s\u001B[0m 2ms/step - accuracy: 0.8910 - loss: 0.2637 - val_accuracy: 0.9257 - val_loss: 0.2350\n",
      "Epoch 15/40\n",
      "\u001B[1m15/15\u001B[0m \u001B[32m━━━━━━━━━━━━━━━━━━━━\u001B[0m\u001B[37m\u001B[0m \u001B[1m0s\u001B[0m 2ms/step - accuracy: 0.8910 - loss: 0.2633 - val_accuracy: 0.9257 - val_loss: 0.2347\n",
      "Epoch 16/40\n",
      "\u001B[1m15/15\u001B[0m \u001B[32m━━━━━━━━━━━━━━━━━━━━\u001B[0m\u001B[37m\u001B[0m \u001B[1m0s\u001B[0m 2ms/step - accuracy: 0.8910 - loss: 0.2630 - val_accuracy: 0.9257 - val_loss: 0.2344\n",
      "Epoch 17/40\n",
      "\u001B[1m15/15\u001B[0m \u001B[32m━━━━━━━━━━━━━━━━━━━━\u001B[0m\u001B[37m\u001B[0m \u001B[1m0s\u001B[0m 2ms/step - accuracy: 0.8932 - loss: 0.2627 - val_accuracy: 0.9257 - val_loss: 0.2341\n",
      "Epoch 18/40\n",
      "\u001B[1m15/15\u001B[0m \u001B[32m━━━━━━━━━━━━━━━━━━━━\u001B[0m\u001B[37m\u001B[0m \u001B[1m0s\u001B[0m 2ms/step - accuracy: 0.8910 - loss: 0.2624 - val_accuracy: 0.9257 - val_loss: 0.2338\n",
      "Epoch 19/40\n",
      "\u001B[1m15/15\u001B[0m \u001B[32m━━━━━━━━━━━━━━━━━━━━\u001B[0m\u001B[37m\u001B[0m \u001B[1m0s\u001B[0m 2ms/step - accuracy: 0.8910 - loss: 0.2621 - val_accuracy: 0.9257 - val_loss: 0.2335\n",
      "Epoch 20/40\n",
      "\u001B[1m15/15\u001B[0m \u001B[32m━━━━━━━━━━━━━━━━━━━━\u001B[0m\u001B[37m\u001B[0m \u001B[1m0s\u001B[0m 2ms/step - accuracy: 0.8910 - loss: 0.2618 - val_accuracy: 0.9257 - val_loss: 0.2333\n",
      "Epoch 21/40\n",
      "\u001B[1m15/15\u001B[0m \u001B[32m━━━━━━━━━━━━━━━━━━━━\u001B[0m\u001B[37m\u001B[0m \u001B[1m0s\u001B[0m 2ms/step - accuracy: 0.8910 - loss: 0.2615 - val_accuracy: 0.9257 - val_loss: 0.2330\n",
      "Epoch 22/40\n",
      "\u001B[1m15/15\u001B[0m \u001B[32m━━━━━━━━━━━━━━━━━━━━\u001B[0m\u001B[37m\u001B[0m \u001B[1m0s\u001B[0m 2ms/step - accuracy: 0.8910 - loss: 0.2612 - val_accuracy: 0.9257 - val_loss: 0.2328\n",
      "Epoch 23/40\n",
      "\u001B[1m15/15\u001B[0m \u001B[32m━━━━━━━━━━━━━━━━━━━━\u001B[0m\u001B[37m\u001B[0m \u001B[1m0s\u001B[0m 2ms/step - accuracy: 0.8910 - loss: 0.2610 - val_accuracy: 0.9257 - val_loss: 0.2325\n",
      "Epoch 24/40\n",
      "\u001B[1m15/15\u001B[0m \u001B[32m━━━━━━━━━━━━━━━━━━━━\u001B[0m\u001B[37m\u001B[0m \u001B[1m0s\u001B[0m 2ms/step - accuracy: 0.8910 - loss: 0.2606 - val_accuracy: 0.9257 - val_loss: 0.2322\n",
      "Epoch 25/40\n",
      "\u001B[1m15/15\u001B[0m \u001B[32m━━━━━━━━━━━━━━━━━━━━\u001B[0m\u001B[37m\u001B[0m \u001B[1m0s\u001B[0m 2ms/step - accuracy: 0.8932 - loss: 0.2604 - val_accuracy: 0.9257 - val_loss: 0.2320\n",
      "Epoch 26/40\n",
      "\u001B[1m15/15\u001B[0m \u001B[32m━━━━━━━━━━━━━━━━━━━━\u001B[0m\u001B[37m\u001B[0m \u001B[1m0s\u001B[0m 2ms/step - accuracy: 0.8910 - loss: 0.2601 - val_accuracy: 0.9257 - val_loss: 0.2317\n",
      "Epoch 27/40\n",
      "\u001B[1m15/15\u001B[0m \u001B[32m━━━━━━━━━━━━━━━━━━━━\u001B[0m\u001B[37m\u001B[0m \u001B[1m0s\u001B[0m 2ms/step - accuracy: 0.8910 - loss: 0.2599 - val_accuracy: 0.9257 - val_loss: 0.2315\n",
      "Epoch 28/40\n",
      "\u001B[1m15/15\u001B[0m \u001B[32m━━━━━━━━━━━━━━━━━━━━\u001B[0m\u001B[37m\u001B[0m \u001B[1m0s\u001B[0m 2ms/step - accuracy: 0.8910 - loss: 0.2596 - val_accuracy: 0.9257 - val_loss: 0.2313\n",
      "Epoch 29/40\n",
      "\u001B[1m15/15\u001B[0m \u001B[32m━━━━━━━━━━━━━━━━━━━━\u001B[0m\u001B[37m\u001B[0m \u001B[1m0s\u001B[0m 2ms/step - accuracy: 0.8932 - loss: 0.2593 - val_accuracy: 0.9257 - val_loss: 0.2310\n",
      "Epoch 30/40\n",
      "\u001B[1m15/15\u001B[0m \u001B[32m━━━━━━━━━━━━━━━━━━━━\u001B[0m\u001B[37m\u001B[0m \u001B[1m0s\u001B[0m 2ms/step - accuracy: 0.8910 - loss: 0.2591 - val_accuracy: 0.9257 - val_loss: 0.2308\n",
      "Epoch 31/40\n",
      "\u001B[1m15/15\u001B[0m \u001B[32m━━━━━━━━━━━━━━━━━━━━\u001B[0m\u001B[37m\u001B[0m \u001B[1m0s\u001B[0m 2ms/step - accuracy: 0.8910 - loss: 0.2588 - val_accuracy: 0.9257 - val_loss: 0.2306\n",
      "Epoch 32/40\n",
      "\u001B[1m15/15\u001B[0m \u001B[32m━━━━━━━━━━━━━━━━━━━━\u001B[0m\u001B[37m\u001B[0m \u001B[1m0s\u001B[0m 2ms/step - accuracy: 0.8910 - loss: 0.2585 - val_accuracy: 0.9257 - val_loss: 0.2304\n",
      "Epoch 33/40\n",
      "\u001B[1m15/15\u001B[0m \u001B[32m━━━━━━━━━━━━━━━━━━━━\u001B[0m\u001B[37m\u001B[0m \u001B[1m0s\u001B[0m 2ms/step - accuracy: 0.8910 - loss: 0.2583 - val_accuracy: 0.9257 - val_loss: 0.2301\n",
      "Epoch 34/40\n",
      "\u001B[1m15/15\u001B[0m \u001B[32m━━━━━━━━━━━━━━━━━━━━\u001B[0m\u001B[37m\u001B[0m \u001B[1m0s\u001B[0m 2ms/step - accuracy: 0.8910 - loss: 0.2580 - val_accuracy: 0.9257 - val_loss: 0.2299\n",
      "Epoch 35/40\n",
      "\u001B[1m15/15\u001B[0m \u001B[32m━━━━━━━━━━━━━━━━━━━━\u001B[0m\u001B[37m\u001B[0m \u001B[1m0s\u001B[0m 2ms/step - accuracy: 0.8910 - loss: 0.2578 - val_accuracy: 0.9257 - val_loss: 0.2297\n",
      "Epoch 36/40\n",
      "\u001B[1m15/15\u001B[0m \u001B[32m━━━━━━━━━━━━━━━━━━━━\u001B[0m\u001B[37m\u001B[0m \u001B[1m0s\u001B[0m 2ms/step - accuracy: 0.8910 - loss: 0.2576 - val_accuracy: 0.9257 - val_loss: 0.2295\n",
      "Epoch 37/40\n",
      "\u001B[1m15/15\u001B[0m \u001B[32m━━━━━━━━━━━━━━━━━━━━\u001B[0m\u001B[37m\u001B[0m \u001B[1m0s\u001B[0m 2ms/step - accuracy: 0.8910 - loss: 0.2574 - val_accuracy: 0.9257 - val_loss: 0.2293\n",
      "Epoch 38/40\n",
      "\u001B[1m15/15\u001B[0m \u001B[32m━━━━━━━━━━━━━━━━━━━━\u001B[0m\u001B[37m\u001B[0m \u001B[1m0s\u001B[0m 2ms/step - accuracy: 0.8910 - loss: 0.2571 - val_accuracy: 0.9257 - val_loss: 0.2290\n",
      "Epoch 39/40\n",
      "\u001B[1m15/15\u001B[0m \u001B[32m━━━━━━━━━━━━━━━━━━━━\u001B[0m\u001B[37m\u001B[0m \u001B[1m0s\u001B[0m 2ms/step - accuracy: 0.8910 - loss: 0.2569 - val_accuracy: 0.9257 - val_loss: 0.2288\n",
      "Epoch 40/40\n",
      "\u001B[1m15/15\u001B[0m \u001B[32m━━━━━━━━━━━━━━━━━━━━\u001B[0m\u001B[37m\u001B[0m \u001B[1m0s\u001B[0m 2ms/step - accuracy: 0.8910 - loss: 0.2567 - val_accuracy: 0.9257 - val_loss: 0.2286\n"
     ]
    },
    {
     "data": {
      "text/plain": [
       "<Figure size 1000x600 with 1 Axes>"
      ],
      "image/png": "[encoded data removed]"
     },
     "metadata": {},
     "output_type": "display_data",
     "jetTransient": {
      "display_id": null
     }
    }
   ],
   "execution_count": 28
  },
  {
   "metadata": {},
   "cell_type": "code",
   "source": "",
   "id": "9b6237e056dbd9e1",
   "outputs": [],
   "execution_count": null
  },
  {
   "metadata": {},
   "cell_type": "code",
   "source": "",
   "id": "e87480aef5c59825",
   "outputs": [],
   "execution_count": null
  },
  {
   "metadata": {},
   "cell_type": "code",
   "source": "",
   "id": "86e431d906b61e4f",
   "outputs": [],
   "execution_count": null
  },
  {
   "metadata": {},
   "cell_type": "code",
   "source": "",
   "id": "22a0ef95c9cb7900",
   "outputs": [],
   "execution_count": null
  },
  {
   "metadata": {},
   "cell_type": "code",
   "source": "",
   "id": "60be267efcea634b",
   "outputs": [],
   "execution_count": null
  },
  {
   "metadata": {},
   "cell_type": "code",
   "source": "",
   "id": "260570ad3ae912bd",
   "outputs": [],
   "execution_count": null
  },
  {
   "metadata": {},
   "cell_type": "code",
   "source": "",
   "id": "c433d41abcf4638f",
   "outputs": [],
   "execution_count": null
  },
  {
   "metadata": {},
   "cell_type": "code",
   "source": "",
   "id": "5f784c4392902dbc",
   "outputs": [],
   "execution_count": null
  },
  {
   "metadata": {},
   "cell_type": "code",
   "source": "",
   "id": "bad53fa00cc9602a",
   "outputs": [],
   "execution_count": null
  },
  {
   "metadata": {},
   "cell_type": "code",
   "source": "",
   "id": "433c91666efa882e",
   "outputs": [],
   "execution_count": null
  },
  {
   "metadata": {},
   "cell_type": "code",
   "source": "",
   "id": "fa9e2f5c6a3d0f9a",
   "outputs": [],
   "execution_count": null
  },
  {
   "metadata": {},
   "cell_type": "code",
   "source": "",
   "id": "96ac80fd52a5e37c",
   "outputs": [],
   "execution_count": null
  }
 ],
 "metadata": {
  "kernelspec": {
   "display_name": "Python 3",
   "language": "python",
   "name": "python3"
  },
  "language_info": {
   "codemirror_mode": {
    "name": "ipython",
    "version": 2
   },
   "file_extension": ".py",
   "mimetype": "text/x-python",
   "name": "python",
   "nbconvert_exporter": "python",
   "pygments_lexer": "ipython2",
   "version": "2.7.6"
  }
 },
 "nbformat": 4,
 "nbformat_minor": 5
}
